{
 "cells": [
  {
   "cell_type": "markdown",
   "id": "f664edc4-5a8f-46cd-9044-a006075b8fab",
   "metadata": {},
   "source": [
    "# Using HealthOmics Workflow & Runs\n",
    "### The goal of this notebook is to get you acquainted with HealthOmics Storage.\n",
    "\n",
    "#### If you complete this notebook you will have:\n",
    "+ Created a HealthOmics Workflow\n",
    "+ Created a HealthOmics run group\n",
    "+ Run the methylseq workflow\n",
    "\n",
    "\n",
    "## Prerequisites\n",
    "#### Python requirements\n",
    "+ Python >= 3.8\n",
    "#### Packages:\n",
    "+ boto3 >= 1.26.19\n",
    "+ botocore >= 1.29.19\n",
    "#### AWS requirements\n",
    "+ AWS CLI\n",
    "+ You will need the AWS CLI installed and configured in your environment. Supported AWS CLI versions are:\n",
    "    - AWS CLI v2 >= 2.9.3 (Recommended)\n",
    "    - AWS CLI v1 >= 1.27.19\n",
    "    - AWS Region\n",
    "\n",
    "<div class=\"alert alert-block alert-info\">\n",
    "<b>NOTE:</b> AWS HealthOmics only allows importing data within the same region. AWS HealthOmics is currently available in Oregon (us-west-2), N. Virginia (us-east-1), Dublin (eu-west-1), London (eu-west-2), Frankfurt (eu-central-1), and Singapore (ap-southeast-1).</div>"
   ]
  },
  {
   "cell_type": "markdown",
   "id": "1da50683-eaf8-4187-90b9-c99f5e02cb44",
   "metadata": {},
   "source": [
    "## Getting Started\n",
    "### Step 1. Import libraries"
   ]
  },
  {
   "cell_type": "code",
   "execution_count": 18,
   "id": "8068eb6f-26a5-4c34-9164-39134f01abd1",
   "metadata": {
    "tags": []
   },
   "outputs": [],
   "source": [
    "#Import necessary libraries and python SDK\n",
    "from datetime import datetime\n",
    "import json\n",
    "import os\n",
    "import time\n",
    "\n",
    "import boto3\n",
    "import botocore.exceptions"
   ]
  },
  {
   "cell_type": "markdown",
   "id": "c15ee155-80cd-4daf-980a-ac091e4f2ee1",
   "metadata": {},
   "source": [
    "### Step 2. Setup new role\n",
    "For the purposes of this demo, we will use the following policy and trust policy that are rather permissiv. You will need to customize permissions as required."
   ]
  },
  {
   "cell_type": "code",
   "execution_count": 46,
   "id": "be9e0ff0-8ab7-41e0-9cd1-41cf226e6d23",
   "metadata": {
    "tags": []
   },
   "outputs": [],
   "source": [
    "# Define demo policies\n",
    "workflow_demo_policy = {\n",
    "    \"Version\": \"2012-10-17\",\n",
    "    \"Statement\": [\n",
    "        {\n",
    "            \"Effect\": \"Allow\",\n",
    "            \"Action\": [\n",
    "                \"s3:*\",\n",
    "                \"omics:*\",\n",
    "                \"logs:*\",\n",
    "            ],\n",
    "            \"Resource\": \"*\"\n",
    "        }\n",
    "    ]\n",
    "}\n",
    "\n",
    "workflow_demo_trust_policy = {\n",
    "    \"Version\": \"2012-10-17\",\n",
    "    \"Statement\": [\n",
    "        {\n",
    "            \"Effect\": \"Allow\",\n",
    "            \"Principal\": {\n",
    "                \"Service\": [\"sagemaker.amazonaws.com\", \"omics.amazonaws.com\"]\n",
    "            },\n",
    "            \"Action\": \"sts:AssumeRole\"\n",
    "        }\n",
    "    ]\n",
    "}"
   ]
  },
  {
   "cell_type": "code",
   "execution_count": 47,
   "id": "86ab3be3-5724-4f05-8e6b-80528cca2b9a",
   "metadata": {
    "tags": []
   },
   "outputs": [],
   "source": [
    "# We will use this as the base name for our role and policy\n",
    "omics_iam_name = 'OmicsWorkflowDemoRole'\n",
    "\n",
    "# Create the iam client\n",
    "iam = boto3.resource('iam')\n",
    "\n",
    "# Check if the role already exists; if not, create it\n",
    "try:\n",
    "    role = iam.Role(omics_iam_name)\n",
    "    role.load()\n",
    "    \n",
    "except botocore.exceptions.ClientError as ex:\n",
    "    if ex.response[\"Error\"][\"Code\"] == \"NoSuchEntity\":\n",
    "        #Create the role with the corresponding trust policy\n",
    "        role = iam.create_role(\n",
    "            RoleName=omics_iam_name, \n",
    "            AssumeRolePolicyDocument=json.dumps(workflow_demo_trust_policy))\n",
    "        \n",
    "        #Create policy\n",
    "        policy = iam.create_policy(\n",
    "            PolicyName='{}-policy'.format(omics_iam_name), \n",
    "            Description=\"Policy for AWS HealthOmics demo\",\n",
    "            PolicyDocument=json.dumps(workflow_demo_policy))\n",
    "        \n",
    "        #Attach the policy to the role\n",
    "        policy.attach_role(RoleName=omics_iam_name)\n",
    "    else:\n",
    "        print('Something went wrong, please retry and check your account settings and permissions')"
   ]
  },
  {
   "cell_type": "code",
   "execution_count": 48,
   "id": "f915b6a3-a6f5-43ee-8e05-51fd9117ff00",
   "metadata": {
    "tags": []
   },
   "outputs": [],
   "source": [
    "#Retrieve the role arn, which grants AWS HealthOmics the proper permissions to access the resources it needs in your AWS account.\n",
    "def get_role_arn(role_name):\n",
    "    try:\n",
    "        iam = boto3.resource('iam')\n",
    "        role = iam.Role(role_name)\n",
    "        role.load()  # calls GetRole to load attributes\n",
    "    except botocore.exceptions.ClientError:\n",
    "        print(\"Couldn't get role named %s.\"%role_name)\n",
    "        raise\n",
    "    else:\n",
    "        print(role.arn)\n",
    "        return role.arn"
   ]
  },
  {
   "cell_type": "code",
   "execution_count": 49,
   "id": "fda382e4-3b8a-45b5-a35d-af935581f90a",
   "metadata": {
    "tags": []
   },
   "outputs": [
    {
     "name": "stdout",
     "output_type": "stream",
     "text": [
      "arn:aws:iam::664418964547:role/OmicsWorkflowDemoRole\n"
     ]
    }
   ],
   "source": [
    "#Print role name and role arn to be used in store creation and upload\n",
    "role_arn = get_role_arn(omics_iam_name)"
   ]
  },
  {
   "cell_type": "code",
   "execution_count": 25,
   "id": "933a369d-bc48-4e35-9019-6d8504cd5764",
   "metadata": {
    "tags": []
   },
   "outputs": [
    {
     "name": "stdout",
     "output_type": "stream",
     "text": [
      "us-east-1\n"
     ]
    }
   ],
   "source": [
    "#Retrieve the region in which we are running our notebook.\n",
    "region = boto3.session.Session().region_name\n",
    "print(region)"
   ]
  },
  {
   "cell_type": "markdown",
   "id": "02fe51b0-d08b-416c-a193-ddabb568edf6",
   "metadata": {},
   "source": [
    "### Step 3. Update Omics.config\n",
    "After following the healthomics_ecr setup need to put this ECR into the omics.config file. \n"
   ]
  },
  {
   "cell_type": "markdown",
   "id": "030723d8-7af6-408d-b1ad-8dc9f07d9fd6",
   "metadata": {},
   "source": [
    "### Step 4. Package Workflow into .zip Folder\n",
    "Once all images are in ECR and workflows are updated zip up workflow folder"
   ]
  },
  {
   "cell_type": "code",
   "execution_count": 64,
   "id": "266be9ee-c7c0-4f38-a01b-3d4f1222c455",
   "metadata": {
    "tags": []
   },
   "outputs": [
    {
     "name": "stdout",
     "output_type": "stream",
     "text": [
      "  adding: AWS-HealthOmics-Module-Template/methylseq-workflow/ (stored 0%)\n",
      "  adding: AWS-HealthOmics-Module-Template/methylseq-workflow/workflows/ (stored 0%)\n",
      "  adding: AWS-HealthOmics-Module-Template/methylseq-workflow/workflows/.ipynb_checkpoints/ (stored 0%)\n",
      "  adding: AWS-HealthOmics-Module-Template/methylseq-workflow/workflows/.ipynb_checkpoints/methylseq-checkpoint.nf (deflated 75%)\n",
      "  adding: AWS-HealthOmics-Module-Template/methylseq-workflow/workflows/methylseq.nf (deflated 75%)\n",
      "  adding: AWS-HealthOmics-Module-Template/methylseq-workflow/.ipynb_checkpoints/ (stored 0%)\n",
      "  adding: AWS-HealthOmics-Module-Template/methylseq-workflow/.ipynb_checkpoints/main-checkpoint.nf (deflated 78%)\n",
      "  adding: AWS-HealthOmics-Module-Template/methylseq-workflow/.ipynb_checkpoints/nextflow-checkpoint.config (deflated 72%)\n",
      "  adding: AWS-HealthOmics-Module-Template/methylseq-workflow/.ipynb_checkpoints/nextflow_schema-checkpoint.json (deflated 78%)\n",
      "  adding: AWS-HealthOmics-Module-Template/methylseq-workflow/nextflow_schema.json (deflated 78%)\n",
      "  adding: AWS-HealthOmics-Module-Template/methylseq-workflow/modules/ (stored 0%)\n",
      "  adding: AWS-HealthOmics-Module-Template/methylseq-workflow/modules/nf-core/ (stored 0%)\n",
      "  adding: AWS-HealthOmics-Module-Template/methylseq-workflow/modules/nf-core/samtools/ (stored 0%)\n",
      "  adding: AWS-HealthOmics-Module-Template/methylseq-workflow/modules/nf-core/samtools/stats/ (stored 0%)\n",
      "  adding: AWS-HealthOmics-Module-Template/methylseq-workflow/modules/nf-core/samtools/stats/main.nf (deflated 60%)\n",
      "  adding: AWS-HealthOmics-Module-Template/methylseq-workflow/modules/nf-core/samtools/stats/meta.yml (deflated 60%)\n",
      "  adding: AWS-HealthOmics-Module-Template/methylseq-workflow/modules/nf-core/samtools/sort/ (stored 0%)\n",
      "  adding: AWS-HealthOmics-Module-Template/methylseq-workflow/modules/nf-core/samtools/sort/main.nf (deflated 58%)\n",
      "  adding: AWS-HealthOmics-Module-Template/methylseq-workflow/modules/nf-core/samtools/sort/meta.yml (deflated 60%)\n",
      "  adding: AWS-HealthOmics-Module-Template/methylseq-workflow/modules/nf-core/samtools/faidx/ (stored 0%)\n",
      "  adding: AWS-HealthOmics-Module-Template/methylseq-workflow/modules/nf-core/samtools/faidx/main.nf (deflated 57%)\n",
      "  adding: AWS-HealthOmics-Module-Template/methylseq-workflow/modules/nf-core/samtools/faidx/meta.yml (deflated 59%)\n",
      "  adding: AWS-HealthOmics-Module-Template/methylseq-workflow/modules/nf-core/samtools/index/ (stored 0%)\n",
      "  adding: AWS-HealthOmics-Module-Template/methylseq-workflow/modules/nf-core/samtools/index/main.nf (deflated 60%)\n",
      "  adding: AWS-HealthOmics-Module-Template/methylseq-workflow/modules/nf-core/samtools/index/meta.yml (deflated 62%)\n",
      "  adding: AWS-HealthOmics-Module-Template/methylseq-workflow/modules/nf-core/samtools/flagstat/ (stored 0%)\n",
      "  adding: AWS-HealthOmics-Module-Template/methylseq-workflow/modules/nf-core/samtools/flagstat/main.nf (deflated 50%)\n",
      "  adding: AWS-HealthOmics-Module-Template/methylseq-workflow/modules/nf-core/samtools/flagstat/meta.yml (deflated 60%)\n",
      "  adding: AWS-HealthOmics-Module-Template/methylseq-workflow/modules/nf-core/preseq/ (stored 0%)\n",
      "  adding: AWS-HealthOmics-Module-Template/methylseq-workflow/modules/nf-core/preseq/lcextrap/ (stored 0%)\n",
      "  adding: AWS-HealthOmics-Module-Template/methylseq-workflow/modules/nf-core/preseq/lcextrap/main.nf (deflated 52%)\n",
      "  adding: AWS-HealthOmics-Module-Template/methylseq-workflow/modules/nf-core/preseq/lcextrap/meta.yml (deflated 63%)\n",
      "  adding: AWS-HealthOmics-Module-Template/methylseq-workflow/modules/nf-core/methyldackel/ (stored 0%)\n",
      "  adding: AWS-HealthOmics-Module-Template/methylseq-workflow/modules/nf-core/methyldackel/extract/ (stored 0%)\n",
      "  adding: AWS-HealthOmics-Module-Template/methylseq-workflow/modules/nf-core/methyldackel/extract/main.nf (deflated 52%)\n",
      "  adding: AWS-HealthOmics-Module-Template/methylseq-workflow/modules/nf-core/methyldackel/extract/meta.yml (deflated 67%)\n",
      "  adding: AWS-HealthOmics-Module-Template/methylseq-workflow/modules/nf-core/methyldackel/mbias/ (stored 0%)\n",
      "  adding: AWS-HealthOmics-Module-Template/methylseq-workflow/modules/nf-core/methyldackel/mbias/main.nf (deflated 52%)\n",
      "  adding: AWS-HealthOmics-Module-Template/methylseq-workflow/modules/nf-core/methyldackel/mbias/meta.yml (deflated 65%)\n",
      "  adding: AWS-HealthOmics-Module-Template/methylseq-workflow/modules/nf-core/bwameth/ (stored 0%)\n",
      "  adding: AWS-HealthOmics-Module-Template/methylseq-workflow/modules/nf-core/bwameth/align/ (stored 0%)\n",
      "  adding: AWS-HealthOmics-Module-Template/methylseq-workflow/modules/nf-core/bwameth/align/main.nf (deflated 51%)\n",
      "  adding: AWS-HealthOmics-Module-Template/methylseq-workflow/modules/nf-core/bwameth/align/meta.yml (deflated 61%)\n",
      "  adding: AWS-HealthOmics-Module-Template/methylseq-workflow/modules/nf-core/bwameth/index/ (stored 0%)\n",
      "  adding: AWS-HealthOmics-Module-Template/methylseq-workflow/modules/nf-core/bwameth/index/main.nf (deflated 47%)\n",
      "  adding: AWS-HealthOmics-Module-Template/methylseq-workflow/modules/nf-core/bwameth/index/meta.yml (deflated 54%)\n",
      "  adding: AWS-HealthOmics-Module-Template/methylseq-workflow/modules/nf-core/fastqc/ (stored 0%)\n",
      "  adding: AWS-HealthOmics-Module-Template/methylseq-workflow/modules/nf-core/fastqc/main.nf (deflated 58%)\n",
      "  adding: AWS-HealthOmics-Module-Template/methylseq-workflow/modules/nf-core/fastqc/meta.yml (deflated 61%)\n",
      "  adding: AWS-HealthOmics-Module-Template/methylseq-workflow/modules/nf-core/bismark/ (stored 0%)\n",
      "  adding: AWS-HealthOmics-Module-Template/methylseq-workflow/modules/nf-core/bismark/align/ (stored 0%)\n",
      "  adding: AWS-HealthOmics-Module-Template/methylseq-workflow/modules/nf-core/bismark/align/main.nf (deflated 56%)\n",
      "  adding: AWS-HealthOmics-Module-Template/methylseq-workflow/modules/nf-core/bismark/align/meta.yml (deflated 62%)\n",
      "  adding: AWS-HealthOmics-Module-Template/methylseq-workflow/modules/nf-core/bismark/methylationextractor/ (stored 0%)\n",
      "  adding: AWS-HealthOmics-Module-Template/methylseq-workflow/modules/nf-core/bismark/methylationextractor/main.nf (deflated 55%)\n",
      "  adding: AWS-HealthOmics-Module-Template/methylseq-workflow/modules/nf-core/bismark/methylationextractor/meta.yml (deflated 66%)\n",
      "  adding: AWS-HealthOmics-Module-Template/methylseq-workflow/modules/nf-core/bismark/genomepreparation/ (stored 0%)\n",
      "  adding: AWS-HealthOmics-Module-Template/methylseq-workflow/modules/nf-core/bismark/genomepreparation/main.nf (deflated 46%)\n",
      "  adding: AWS-HealthOmics-Module-Template/methylseq-workflow/modules/nf-core/bismark/genomepreparation/meta.yml (deflated 53%)\n",
      "  adding: AWS-HealthOmics-Module-Template/methylseq-workflow/modules/nf-core/bismark/deduplicate/ (stored 0%)\n",
      "  adding: AWS-HealthOmics-Module-Template/methylseq-workflow/modules/nf-core/bismark/deduplicate/main.nf (deflated 50%)\n",
      "  adding: AWS-HealthOmics-Module-Template/methylseq-workflow/modules/nf-core/bismark/deduplicate/meta.yml (deflated 62%)\n",
      "  adding: AWS-HealthOmics-Module-Template/methylseq-workflow/modules/nf-core/bismark/report/ (stored 0%)\n",
      "  adding: AWS-HealthOmics-Module-Template/methylseq-workflow/modules/nf-core/bismark/report/main.nf (deflated 48%)\n",
      "  adding: AWS-HealthOmics-Module-Template/methylseq-workflow/modules/nf-core/bismark/report/meta.yml (deflated 66%)\n",
      "  adding: AWS-HealthOmics-Module-Template/methylseq-workflow/modules/nf-core/bismark/coverage2cytosine/ (stored 0%)\n",
      "  adding: AWS-HealthOmics-Module-Template/methylseq-workflow/modules/nf-core/bismark/coverage2cytosine/main.nf (deflated 52%)\n",
      "  adding: AWS-HealthOmics-Module-Template/methylseq-workflow/modules/nf-core/bismark/coverage2cytosine/meta.yml (deflated 63%)\n",
      "  adding: AWS-HealthOmics-Module-Template/methylseq-workflow/modules/nf-core/bismark/summary/ (stored 0%)\n",
      "  adding: AWS-HealthOmics-Module-Template/methylseq-workflow/modules/nf-core/bismark/summary/main.nf (deflated 46%)\n",
      "  adding: AWS-HealthOmics-Module-Template/methylseq-workflow/modules/nf-core/bismark/summary/meta.yml (deflated 62%)\n",
      "  adding: AWS-HealthOmics-Module-Template/methylseq-workflow/modules/nf-core/multiqc/ (stored 0%)\n",
      "  adding: AWS-HealthOmics-Module-Template/methylseq-workflow/modules/nf-core/multiqc/main.nf (deflated 62%)\n",
      "  adding: AWS-HealthOmics-Module-Template/methylseq-workflow/modules/nf-core/multiqc/meta.yml (deflated 62%)\n",
      "  adding: AWS-HealthOmics-Module-Template/methylseq-workflow/modules/nf-core/picard/ (stored 0%)\n",
      "  adding: AWS-HealthOmics-Module-Template/methylseq-workflow/modules/nf-core/picard/markduplicates/ (stored 0%)\n",
      "  adding: AWS-HealthOmics-Module-Template/methylseq-workflow/modules/nf-core/picard/markduplicates/main.nf (deflated 60%)\n",
      "  adding: AWS-HealthOmics-Module-Template/methylseq-workflow/modules/nf-core/picard/markduplicates/meta.yml (deflated 64%)\n",
      "  adding: AWS-HealthOmics-Module-Template/methylseq-workflow/modules/nf-core/cat/ (stored 0%)\n",
      "  adding: AWS-HealthOmics-Module-Template/methylseq-workflow/modules/nf-core/cat/fastq/ (stored 0%)\n",
      "  adding: AWS-HealthOmics-Module-Template/methylseq-workflow/modules/nf-core/cat/fastq/main.nf (deflated 73%)\n",
      "  adding: AWS-HealthOmics-Module-Template/methylseq-workflow/modules/nf-core/cat/fastq/meta.yml (deflated 58%)\n",
      "  adding: AWS-HealthOmics-Module-Template/methylseq-workflow/modules/nf-core/qualimap/ (stored 0%)\n",
      "  adding: AWS-HealthOmics-Module-Template/methylseq-workflow/modules/nf-core/qualimap/bamqc/ (stored 0%)\n",
      "  adding: AWS-HealthOmics-Module-Template/methylseq-workflow/modules/nf-core/qualimap/bamqc/main.nf (deflated 67%)\n",
      "  adding: AWS-HealthOmics-Module-Template/methylseq-workflow/modules/nf-core/qualimap/bamqc/meta.yml (deflated 58%)\n",
      "  adding: AWS-HealthOmics-Module-Template/methylseq-workflow/modules/nf-core/qualimap/bamqccram/ (stored 0%)\n",
      "  adding: AWS-HealthOmics-Module-Template/methylseq-workflow/modules/nf-core/qualimap/bamqccram/main.nf (deflated 53%)\n",
      "  adding: AWS-HealthOmics-Module-Template/methylseq-workflow/modules/nf-core/qualimap/bamqccram/meta.yml (deflated 58%)\n",
      "  adding: AWS-HealthOmics-Module-Template/methylseq-workflow/modules/nf-core/trimgalore/ (stored 0%)\n",
      "  adding: AWS-HealthOmics-Module-Template/methylseq-workflow/modules/nf-core/trimgalore/main.nf (deflated 65%)\n",
      "  adding: AWS-HealthOmics-Module-Template/methylseq-workflow/modules/nf-core/trimgalore/meta.yml (deflated 63%)\n",
      "  adding: AWS-HealthOmics-Module-Template/methylseq-workflow/modules/nf-core/custom/ (stored 0%)\n",
      "  adding: AWS-HealthOmics-Module-Template/methylseq-workflow/modules/nf-core/custom/dumpsoftwareversions/ (stored 0%)\n",
      "  adding: AWS-HealthOmics-Module-Template/methylseq-workflow/modules/nf-core/custom/dumpsoftwareversions/templates/ (stored 0%)\n",
      "  adding: AWS-HealthOmics-Module-Template/methylseq-workflow/modules/nf-core/custom/dumpsoftwareversions/templates/dumpsoftwareversions.py (deflated 65%)\n",
      "  adding: AWS-HealthOmics-Module-Template/methylseq-workflow/modules/nf-core/custom/dumpsoftwareversions/main.nf (deflated 47%)\n",
      "  adding: AWS-HealthOmics-Module-Template/methylseq-workflow/modules/nf-core/custom/dumpsoftwareversions/meta.yml (deflated 68%)\n",
      "  adding: AWS-HealthOmics-Module-Template/methylseq-workflow/modules/local/ (stored 0%)\n",
      "  adding: AWS-HealthOmics-Module-Template/methylseq-workflow/modules/local/samplesheet_check.nf (deflated 47%)\n",
      "  adding: AWS-HealthOmics-Module-Template/methylseq-workflow/nextflow.config (deflated 72%)\n",
      "  adding: AWS-HealthOmics-Module-Template/methylseq-workflow/main.nf (deflated 78%)\n",
      "  adding: AWS-HealthOmics-Module-Template/methylseq-workflow/Subworkflows/ (stored 0%)\n",
      "  adding: AWS-HealthOmics-Module-Template/methylseq-workflow/Subworkflows/bismark.nf (deflated 77%)\n",
      "  adding: AWS-HealthOmics-Module-Template/methylseq-workflow/Subworkflows/.ipynb_checkpoints/ (stored 0%)\n",
      "  adding: AWS-HealthOmics-Module-Template/methylseq-workflow/Subworkflows/.ipynb_checkpoints/bwameth-checkpoint.nf (deflated 77%)\n",
      "  adding: AWS-HealthOmics-Module-Template/methylseq-workflow/Subworkflows/bwameth.nf (deflated 77%)\n",
      "  adding: AWS-HealthOmics-Module-Template/methylseq-workflow/Subworkflows/input_check.nf (deflated 59%)\n",
      "  adding: AWS-HealthOmics-Module-Template/methylseq-workflow/conf/ (stored 0%)\n",
      "  adding: AWS-HealthOmics-Module-Template/methylseq-workflow/conf/igenomes.config (deflated 93%)\n",
      "  adding: AWS-HealthOmics-Module-Template/methylseq-workflow/conf/test_paired.config (deflated 54%)\n",
      "  adding: AWS-HealthOmics-Module-Template/methylseq-workflow/conf/.ipynb_checkpoints/ (stored 0%)\n",
      "  adding: AWS-HealthOmics-Module-Template/methylseq-workflow/conf/.ipynb_checkpoints/test_full-checkpoint.config (deflated 77%)\n",
      "  adding: AWS-HealthOmics-Module-Template/methylseq-workflow/conf/.ipynb_checkpoints/omics-checkpoint.config (deflated 72%)\n",
      "  adding: AWS-HealthOmics-Module-Template/methylseq-workflow/conf/.ipynb_checkpoints/modules-checkpoint.config (deflated 85%)\n",
      "  adding: AWS-HealthOmics-Module-Template/methylseq-workflow/conf/.ipynb_checkpoints/base-checkpoint.config (deflated 70%)\n",
      "  adding: AWS-HealthOmics-Module-Template/methylseq-workflow/conf/.ipynb_checkpoints/igenomes-checkpoint.config (deflated 93%)\n",
      "  adding: AWS-HealthOmics-Module-Template/methylseq-workflow/conf/modules.config (deflated 85%)\n",
      "  adding: AWS-HealthOmics-Module-Template/methylseq-workflow/conf/omics.config (deflated 72%)\n",
      "  adding: AWS-HealthOmics-Module-Template/methylseq-workflow/conf/test.config (deflated 55%)\n",
      "  adding: AWS-HealthOmics-Module-Template/methylseq-workflow/conf/test_full.config (deflated 77%)\n",
      "  adding: AWS-HealthOmics-Module-Template/methylseq-workflow/conf/base.config (deflated 70%)\n"
     ]
    }
   ],
   "source": [
    "!zip -r -X  methylseq-workflow.zip AWS-HealthOmics-Module-Template/methylseq-workflow"
   ]
  },
  {
   "cell_type": "markdown",
   "id": "df1d559f-9dd6-4689-820b-858c0ffd3f65",
   "metadata": {},
   "source": [
    "### Step 5. Create paremeters.json File\n",
    "When creating the workflow need to specify your parameters to do this create a JSON file which specifies workflow parameters."
   ]
  },
  {
   "cell_type": "markdown",
   "id": "99abe78a-f6f0-4e4b-a74d-d73db9a50d01",
   "metadata": {},
   "source": [
    "### Step 6. Create Workflow using zipped workflow and parameters.json\n"
   ]
  },
  {
   "cell_type": "code",
   "execution_count": 65,
   "id": "d036f0af-f6ea-4a57-9677-5511921ccb8a",
   "metadata": {},
   "outputs": [
    {
     "name": "stdout",
     "output_type": "stream",
     "text": [
      "{\n",
      "    \"arn\": \"arn:aws:omics:us-east-1:664418964547:workflow/2537099\",\n",
      "    \"id\": \"2537099\",\n",
      "    \"status\": \"CREATING\",\n",
      "    \"tags\": {}\n",
      "}\n"
     ]
    }
   ],
   "source": [
    "!aws omics create-workflow \\\n",
    "    --name methylseq-workflow_V2 \\\n",
    "    --description \"Nextflow Methylseq workflow\" \\\n",
    "    --definition-zip fileb://AWS-HealthOmics-Module-Template/methylseq-workflow.zip \\\n",
    "    --parameter-template file://AWS-HealthOmics-Module-Template/parameters/parameter-template.json"
   ]
  },
  {
   "cell_type": "markdown",
   "id": "7bee8164-2ff5-49e5-a9c7-077518f65259",
   "metadata": {},
   "source": [
    "### Step 7. Creating Run Groups (Optional)\n"
   ]
  },
  {
   "cell_type": "markdown",
   "id": "976db223-e08e-45b1-af0d-df74129cb147",
   "metadata": {
    "tags": []
   },
   "source": [
    "### Step 8. Create Output S3 Bucket\n",
    "HealthOmics run outputs must be stored to a S3 bucket."
   ]
  },
  {
   "cell_type": "code",
   "execution_count": 8,
   "id": "e35aed9d-78d1-461b-b240-5fe6e97a4db0",
   "metadata": {
    "tags": []
   },
   "outputs": [
    {
     "name": "stdout",
     "output_type": "stream",
     "text": [
      "make_bucket: methylseq-testbucket\n"
     ]
    }
   ],
   "source": [
    "!aws s3 mb s3://methylseq-testbucket"
   ]
  },
  {
   "cell_type": "markdown",
   "id": "2c8da4a9-dc7c-4338-8eb7-5139996014bc",
   "metadata": {
    "tags": []
   },
   "source": [
    "## Step 8. Running "
   ]
  },
  {
   "cell_type": "code",
   "execution_count": null,
   "id": "b6bb3849-c1ae-4462-9faf-fe238dc2f0ae",
   "metadata": {},
   "outputs": [],
   "source": [
    "!aws omics start-run --workflow-id [workflow id] \\\n",
    "     --role-arn [role arn] \\\n",
    "     --name [workflow name] \\\n",
    "     --parameters [input parameter JSON File] \\\n",
    "     --output-uri [s3 bucket output]"
   ]
  },
  {
   "cell_type": "code",
   "execution_count": 66,
   "id": "c9bac416-7958-4298-867d-3ebc62d74360",
   "metadata": {},
   "outputs": [
    {
     "name": "stdout",
     "output_type": "stream",
     "text": [
      "{\n",
      "    \"arn\": \"arn:aws:omics:us-east-1:664418964547:run/8692021\",\n",
      "    \"id\": \"8692021\",\n",
      "    \"status\": \"PENDING\",\n",
      "    \"tags\": {},\n",
      "    \"uuid\": \"40c91a91-8cfe-940b-4fff-08376f2e1b37\",\n",
      "    \"runOutputUri\": \"s3://methylseq-testbucket/8692021\"\n",
      "}\n"
     ]
    }
   ],
   "source": [
    "!aws omics start-run --workflow-id 2537099 \\\n",
    "     --role-arn arn:aws:iam::664418964547:role/OmicsWorkflowDemoRole \\\n",
    "     --name methylseq-workflow_V2 \\\n",
    "     --parameters file://AWS-HealthOmics-Module-Template/run-parameters2.json \\\n",
    "     --output-uri s3://methylseq-testbucket \\\n",
    "     --priority 1"
   ]
  },
  {
   "cell_type": "code",
   "execution_count": 67,
   "id": "5c621122-7391-453b-a65d-f646f721133d",
   "metadata": {
    "tags": []
   },
   "outputs": [
    {
     "name": "stdout",
     "output_type": "stream",
     "text": [
      "{\n",
      "    \"items\": [\n",
      "        {\n",
      "            \"arn\": \"arn:aws:omics:us-east-1:664418964547:run/8692021\",\n",
      "            \"id\": \"8692021\",\n",
      "            \"status\": \"STARTING\",\n",
      "            \"workflowId\": \"2537099\",\n",
      "            \"name\": \"methylseq-workflow_V2\",\n",
      "            \"creationTime\": \"2024-09-27T20:19:05.83540Z\",\n",
      "            \"storageType\": \"STATIC\"\n",
      "        },\n",
      "        {\n",
      "            \"arn\": \"arn:aws:omics:us-east-1:664418964547:run/5321330\",\n",
      "            \"id\": \"5321330\",\n",
      "            \"status\": \"FAILED\",\n",
      "            \"workflowId\": \"8553549\",\n",
      "            \"name\": \"methylseq-workflow\",\n",
      "            \"creationTime\": \"2024-09-27T18:54:24.55691Z\",\n",
      "            \"startTime\": \"2024-09-27T19:04:02.45100Z\",\n",
      "            \"stopTime\": \"2024-09-27T19:14:51.05082Z\",\n",
      "            \"storageType\": \"STATIC\"\n",
      "        },\n",
      "        {\n",
      "            \"arn\": \"arn:aws:omics:us-east-1:664418964547:run/9940556\",\n",
      "            \"id\": \"9940556\",\n",
      "            \"status\": \"FAILED\",\n",
      "            \"workflowId\": \"8553549\",\n",
      "            \"name\": \"methylseq-workflow\",\n",
      "            \"creationTime\": \"2024-09-27T18:43:55.02732Z\",\n",
      "            \"startTime\": \"2024-09-27T18:53:37.61000Z\",\n",
      "            \"stopTime\": \"2024-09-27T19:03:56.08657Z\",\n",
      "            \"storageType\": \"STATIC\"\n",
      "        },\n",
      "        {\n",
      "            \"arn\": \"arn:aws:omics:us-east-1:664418964547:run/1930417\",\n",
      "            \"id\": \"1930417\",\n",
      "            \"status\": \"FAILED\",\n",
      "            \"workflowId\": \"8553549\",\n",
      "            \"name\": \"methylseq-workflow\",\n",
      "            \"creationTime\": \"2024-09-27T18:40:21.08744Z\",\n",
      "            \"startTime\": \"2024-09-27T18:52:03.12500Z\",\n",
      "            \"stopTime\": \"2024-09-27T19:03:33.94976Z\",\n",
      "            \"storageType\": \"STATIC\"\n",
      "        },\n",
      "        {\n",
      "            \"arn\": \"arn:aws:omics:us-east-1:664418964547:run/6756744\",\n",
      "            \"id\": \"6756744\",\n",
      "            \"status\": \"FAILED\",\n",
      "            \"workflowId\": \"8553549\",\n",
      "            \"name\": \"TestRunv2\",\n",
      "            \"priority\": 100,\n",
      "            \"storageCapacity\": 2400,\n",
      "            \"creationTime\": \"2024-09-27T18:06:31.13861Z\",\n",
      "            \"startTime\": \"2024-09-27T18:16:44.83400Z\",\n",
      "            \"stopTime\": \"2024-09-27T18:27:05.03542Z\",\n",
      "            \"storageType\": \"STATIC\"\n",
      "        },\n",
      "        {\n",
      "            \"arn\": \"arn:aws:omics:us-east-1:664418964547:run/6277346\",\n",
      "            \"id\": \"6277346\",\n",
      "            \"status\": \"FAILED\",\n",
      "            \"workflowId\": \"8553549\",\n",
      "            \"name\": \"Test Run\",\n",
      "            \"priority\": 100,\n",
      "            \"storageCapacity\": 1200,\n",
      "            \"creationTime\": \"2024-09-27T17:34:07.64614Z\",\n",
      "            \"startTime\": \"2024-09-27T17:44:19.08000Z\",\n",
      "            \"stopTime\": \"2024-09-27T17:54:40.66496Z\",\n",
      "            \"storageType\": \"STATIC\"\n",
      "        },\n",
      "        {\n",
      "            \"arn\": \"arn:aws:omics:us-east-1:664418964547:run/4161453\",\n",
      "            \"id\": \"4161453\",\n",
      "            \"status\": \"COMPLETED\",\n",
      "            \"workflowId\": \"9701407\",\n",
      "            \"name\": \"somatic-demo\",\n",
      "            \"priority\": 100,\n",
      "            \"storageCapacity\": 1200,\n",
      "            \"creationTime\": \"2024-09-27T12:37:11.11630Z\",\n",
      "            \"startTime\": \"2024-09-27T12:46:26.66300Z\",\n",
      "            \"stopTime\": \"2024-09-27T13:46:27.83386Z\",\n",
      "            \"storageType\": \"STATIC\"\n",
      "        }\n",
      "    ]\n",
      "}\n"
     ]
    }
   ],
   "source": [
    "!aws omics list-runs"
   ]
  },
  {
   "cell_type": "code",
   "execution_count": null,
   "id": "92f93f3b-d48e-4e9e-b5c9-5d0474e86343",
   "metadata": {},
   "outputs": [],
   "source": [
    "#The import can take up to 5 minutes to complete. We can wait for it to complete using a waiter.\n",
    "print(f\"waiting for job {ref_import_job['id']} to complete\")\n",
    "try:\n",
    "    # Find Runs Waiter\n",
    "    waiter = omics.get_waiter('reference_import_job_completed')\n",
    "    waiter.wait(referenceStoreId=ref_import_job['referenceStoreId'], id=ref_import_job['id'])\n",
    "\n",
    "    print(f\"job {ref_import_job['id']} complete\")\n",
    "except botocore.exceptions.WaiterError as e:\n",
    "    print(f\"job {ref_import_job['id']} FAILED:\")\n",
    "    print(e)"
   ]
  }
 ],
 "metadata": {
  "kernelspec": {
   "display_name": "conda_python3",
   "language": "python",
   "name": "conda_python3"
  },
  "language_info": {
   "codemirror_mode": {
    "name": "ipython",
    "version": 3
   },
   "file_extension": ".py",
   "mimetype": "text/x-python",
   "name": "python",
   "nbconvert_exporter": "python",
   "pygments_lexer": "ipython3",
   "version": "3.10.14"
  }
 },
 "nbformat": 4,
 "nbformat_minor": 5
}
