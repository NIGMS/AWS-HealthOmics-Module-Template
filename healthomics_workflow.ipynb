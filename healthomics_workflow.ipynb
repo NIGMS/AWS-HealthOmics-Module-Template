{
 "cells": [
  {
   "cell_type": "markdown",
   "id": "f664edc4-5a8f-46cd-9044-a006075b8fab",
   "metadata": {},
   "source": [
    "# Using HealthOmics Workflow & Runs\n",
    "### This is the third notebook (3 of 3) in the workshop series and should be run AFTER both the ECR setup notebook and workflow notebooks. \n",
    "The goal of this notebook is to get you acquainted with building HealthOmics private workflows and runs.\n",
    "\n",
    "____________________________________________________________________________\n",
    "#### If you complete this notebook you will have:\n",
    "+ Created a HealthOmics Workflow\n",
    "+ Created a HealthOmics run group\n",
    "+ Run the methylseq workflow\n",
    "\n",
    "\n",
    "## Prerequisites\n",
    "#### Python requirements\n",
    "+ Python >= 3.8\n",
    "#### Packages:\n",
    "+ boto3 >= 1.26.19\n",
    "+ botocore >= 1.29.19\n",
    "#### AWS requirements\n",
    "+ AWS CLI\n",
    "+ You will need the AWS CLI installed and configured in your environment. Supported AWS CLI versions are:\n",
    "    - AWS CLI v2 >= 2.9.3 (Recommended)\n",
    "    - AWS CLI v1 >= 1.27.19\n",
    "    - AWS Region\n",
    "\n",
    "<div class=\"alert alert-block alert-info\">\n",
    "<b>NOTE:</b> AWS HealthOmics only allows importing data within the same region. AWS HealthOmics is currently available in Oregon (us-west-2), N. Virginia (us-east-1), Dublin (eu-west-1), London (eu-west-2), Frankfurt (eu-central-1), and Singapore (ap-southeast-1).</div>"
   ]
  },
  {
   "cell_type": "markdown",
   "id": "1da50683-eaf8-4187-90b9-c99f5e02cb44",
   "metadata": {},
   "source": [
    "## Getting Started\n",
    "### Step 1. Import libraries"
   ]
  },
  {
   "cell_type": "code",
   "execution_count": null,
   "id": "8068eb6f-26a5-4c34-9164-39134f01abd1",
   "metadata": {
    "tags": []
   },
   "outputs": [],
   "source": [
    "#Import necessary libraries and python SDK\n",
    "from datetime import datetime\n",
    "import json\n",
    "import os\n",
    "import time\n",
    "\n",
    "import boto3\n",
    "import botocore.exceptions"
   ]
  },
  {
   "cell_type": "markdown",
   "id": "c15ee155-80cd-4daf-980a-ac091e4f2ee1",
   "metadata": {},
   "source": [
    "### Step 2. Setup new role\n",
    "For the purposes of this demo, we will use the following policy and trust policy that are rather permissiv. You will need to customize permissions as required."
   ]
  },
  {
   "cell_type": "code",
   "execution_count": null,
   "id": "be9e0ff0-8ab7-41e0-9cd1-41cf226e6d23",
   "metadata": {
    "tags": []
   },
   "outputs": [],
   "source": [
    "# Define demo policies\n",
    "scrnaseq_workflow_demo_policy = {\n",
    "    \"Version\": \"2012-10-17\",\n",
    "    \"Statement\": [\n",
    "        {\n",
    "            \"Effect\": \"Allow\",\n",
    "            \"Action\": [\n",
    "                \"s3:*\",\n",
    "                \"omics:*\",\n",
    "                \"logs:*\",\n",
    "                \"ecr:*\"\n",
    "            ],\n",
    "            \"Resource\": \"*\"\n",
    "        }\n",
    "    ]\n",
    "}\n",
    "\n",
    "scrnaseq_workflow_demo_trust_policy = {\n",
    "    \"Version\": \"2012-10-17\",\n",
    "    \"Statement\": [\n",
    "        {\n",
    "            \"Effect\": \"Allow\",\n",
    "            \"Principal\": {\n",
    "                \"Service\": [\"sagemaker.amazonaws.com\", \"omics.amazonaws.com\"]\n",
    "            },\n",
    "            \"Action\": \"sts:AssumeRole\"\n",
    "        }\n",
    "    ]\n",
    "}"
   ]
  },
  {
   "cell_type": "code",
   "execution_count": null,
   "id": "86ab3be3-5724-4f05-8e6b-80528cca2b9a",
   "metadata": {
    "tags": []
   },
   "outputs": [],
   "source": [
    "# We will use this as the base name for our role and policy\n",
    "omics_iam_name = 'SCRNASEQWorkflowDemoRole'\n",
    "\n",
    "# Create the iam client\n",
    "iam = boto3.resource('iam')\n",
    "\n",
    "# Check if the role already exists; if not, create it\n",
    "try:\n",
    "    role = iam.Role(omics_iam_name)\n",
    "    role.load()\n",
    "    \n",
    "except botocore.exceptions.ClientError as ex:\n",
    "    if ex.response[\"Error\"][\"Code\"] == \"NoSuchEntity\":\n",
    "        #Create the role with the corresponding trust policy\n",
    "        role = iam.create_role(\n",
    "            RoleName=omics_iam_name, \n",
    "            AssumeRolePolicyDocument=json.dumps(scrnaseq_workflow_demo_trust_policy))\n",
    "        \n",
    "        #Create policy\n",
    "        policy = iam.create_policy(\n",
    "            PolicyName='{}-policy'.format(omics_iam_name), \n",
    "            Description=\"Policy for AWS HealthOmics demo\",\n",
    "            PolicyDocument=json.dumps(scrnaseq_workflow_demo_policy))\n",
    "        \n",
    "        #Attach the policy to the role\n",
    "        policy.attach_role(RoleName=omics_iam_name)\n",
    "    else:\n",
    "        print('Something went wrong, please retry and check your account settings and permissions')"
   ]
  },
  {
   "cell_type": "code",
   "execution_count": null,
   "id": "f915b6a3-a6f5-43ee-8e05-51fd9117ff00",
   "metadata": {
    "tags": []
   },
   "outputs": [],
   "source": [
    "#Retrieve the role arn, which grants AWS HealthOmics the proper permissions to access the resources it needs in your AWS account.\n",
    "def get_role_arn(role_name):\n",
    "    try:\n",
    "        iam = boto3.resource('iam')\n",
    "        role = iam.Role(role_name)\n",
    "        role.load()  # calls GetRole to load attributes\n",
    "    except botocore.exceptions.ClientError:\n",
    "        print(\"Couldn't get role named %s.\"%role_name)\n",
    "        raise\n",
    "    else:\n",
    "        print(role.arn)\n",
    "        return role.arn"
   ]
  },
  {
   "cell_type": "code",
   "execution_count": null,
   "id": "fda382e4-3b8a-45b5-a35d-af935581f90a",
   "metadata": {
    "tags": []
   },
   "outputs": [],
   "source": [
    "#Print role name and role arn to be used in store creation and upload\n",
    "role_arn = get_role_arn(omics_iam_name)"
   ]
  },
  {
   "cell_type": "code",
   "execution_count": null,
   "id": "933a369d-bc48-4e35-9019-6d8504cd5764",
   "metadata": {
    "tags": []
   },
   "outputs": [],
   "source": [
    "#Retrieve the region in which we are running our notebook.\n",
    "region = boto3.session.Session().region_name\n",
    "print(region)"
   ]
  },
  {
   "cell_type": "markdown",
   "id": "02fe51b0-d08b-416c-a193-ddabb568edf6",
   "metadata": {},
   "source": [
    "### Step 3. Create parameter-description.json file\n",
    "Create a *.json* file named *parameter-description.json* and paste the content below into the file. Place the file in the parameters folder.\n",
    "\n",
    "```json\n",
    "{\n",
    "    \"input\": {\"description\": \"Samplesheet with sample locations.\",\n",
    "                \"optional\": false},\n",
    "    \"protocol\" : {\"description\": \"10X Protocol used: 10XV1, 10XV2, 10XV3\",\n",
    "                \"optional\": false},\n",
    "    \"aligner\": {\"description\": \"choice of aligner: alevin, star, kallisto\",\n",
    "            \"optional\": false},\n",
    "    \"whitelist\": {\"description\": \"Optional whitelist if 10X protocol is not used.\",\n",
    "            \"optional\": true},\n",
    "    \"gtf\": {\"description\": \"S3 path to GTF file\",\n",
    "            \"optional\": false},\n",
    "    \"fasta\": {\"description\": \"S3 path to FASTA file\",\n",
    "            \"optional\": false}\n",
    "}\n",
    "```"
   ]
  },
  {
   "cell_type": "markdown",
   "id": "030723d8-7af6-408d-b1ad-8dc9f07d9fd6",
   "metadata": {},
   "source": [
    "### Step 4. Stage and package Workflow into .zip Folder"
   ]
  },
  {
   "cell_type": "code",
   "execution_count": null,
   "id": "266be9ee-c7c0-4f38-a01b-3d4f1222c455",
   "metadata": {
    "tags": []
   },
   "outputs": [],
   "source": [
    "!zip -r scrnaseq-workflow.zip scrnaseq"
   ]
  },
  {
   "cell_type": "code",
   "execution_count": null,
   "id": "7068ac22-993d-42d3-b251-82eb353c3a0d",
   "metadata": {
    "tags": []
   },
   "outputs": [],
   "source": [
    "#if zip file is > 4mb move to bucket you created during ECR setup\n",
    "!aws s3 cp scrnaseq-workflow.zip s3://[YOUR-BUCKET]/scrnaseq-workflow.zip #Replace [YOUR-BUCKET]"
   ]
  },
  {
   "cell_type": "markdown",
   "id": "99abe78a-f6f0-4e4b-a74d-d73db9a50d01",
   "metadata": {},
   "source": [
    "### Step 5. Create Workflow using zipped workflow and parameters-description.json\n"
   ]
  },
  {
   "cell_type": "code",
   "execution_count": null,
   "id": "d036f0af-f6ea-4a57-9677-5511921ccb8a",
   "metadata": {
    "tags": []
   },
   "outputs": [],
   "source": [
    "!aws omics create-workflow \\\n",
    "    --name scrnaseq-workflow-v2 \\\n",
    "    --definition-uri s3://[YOUR-BUCKET]/scrnaseq-workflow.zip \\ #Replace [YOUR-BUCKET]\n",
    "    --parameter-template file://parameters/parameter-description.json \\\n",
    "    --engine NEXTFLOW"
   ]
  },
  {
   "cell_type": "code",
   "execution_count": null,
   "id": "1ade7b88-029b-4d84-a765-22b300aeb2ab",
   "metadata": {
    "tags": []
   },
   "outputs": [],
   "source": [
    "#see workflow, make sure status is Active, and copy the workflow id to use in start-run command below\n",
    "!aws omics list-workflows --name scrnaseq-workflow"
   ]
  },
  {
   "cell_type": "markdown",
   "id": "976db223-e08e-45b1-af0d-df74129cb147",
   "metadata": {
    "tags": []
   },
   "source": [
    "### Step 6. Create S3 Output Bucket\n",
    "HealthOmics run outputs must be stored to a S3 bucket."
   ]
  },
  {
   "cell_type": "code",
   "execution_count": null,
   "id": "e35aed9d-78d1-461b-b240-5fe6e97a4db0",
   "metadata": {
    "tags": []
   },
   "outputs": [],
   "source": [
    "!aws s3 mb s3://[YOUR-OUTPUT-BUCKET] # Replace [YOUR-OUTPUT-BUCKET]"
   ]
  },
  {
   "cell_type": "markdown",
   "id": "2c8da4a9-dc7c-4338-8eb7-5139996014bc",
   "metadata": {
    "tags": []
   },
   "source": [
    "### Step 7. Start a run from generated workflow id"
   ]
  },
  {
   "cell_type": "code",
   "execution_count": null,
   "id": "d3d273ff-ca08-40d8-945d-b8d4f8007baf",
   "metadata": {
    "tags": []
   },
   "outputs": [],
   "source": [
    "!aws omics start-run \\\n",
    "  --name scrnaseq_workshop_demo_run_1 \\\n",
    "  --role-arn arn:aws:iam::[ACCOUNT-NUMBER]:role/SCRNASEQWorkflowDemoRole \\ # Replace [ACCOUNT-NUMBER]\n",
    "  --workflow-id [WORKFLOW-ID] \\ # Replace [WORKFLOW-ID] with workflow id collected above\n",
    "  --parameters file://parameters/input.json \\\n",
    "  --output-uri s3://[YOUR-OUTPUT-BUCKET] # Replace [YOUR-OUTPUT-BUCKET]"
   ]
  },
  {
   "cell_type": "code",
   "execution_count": null,
   "id": "5c621122-7391-453b-a65d-f646f721133d",
   "metadata": {
    "tags": []
   },
   "outputs": [],
   "source": [
    "!aws omics list-runs"
   ]
  },
  {
   "cell_type": "markdown",
   "id": "c0c27c9d-5cbe-4221-a364-e547b897dcae",
   "metadata": {},
   "source": [
    "### Step 8. Clean Up"
   ]
  },
  {
   "cell_type": "markdown",
   "id": "bb8e42a5-f4de-462d-8905-fae40898c452",
   "metadata": {},
   "source": [
    "Once the demo is completed you should delete resources setup during the exercise. This will prevent unnecessary costs.\n",
    "\n",
    "#### The following resources should be deleted/terminated form the console:\n",
    "+ Reference and Sequence stores\n",
    "+ S3 Buckets\n",
    "+ Images in ECR\n",
    "+ CloudFormation stack\n",
    "+ You may also want to delete any workflows and runs that your created in HealthOmics.\n",
    "\n",
    "Additional information can be found [here](https://catalog.us-east-1.prod.workshops.aws/workshops/76d4a4ff-fe6f-436a-a1c2-f7ce44bc5d17/en-US/workshop/clean-up)."
   ]
  }
 ],
 "metadata": {
  "kernelspec": {
   "display_name": "conda_python3",
   "language": "python",
   "name": "conda_python3"
  },
  "language_info": {
   "codemirror_mode": {
    "name": "ipython",
    "version": 3
   },
   "file_extension": ".py",
   "mimetype": "text/x-python",
   "name": "python",
   "nbconvert_exporter": "python",
   "pygments_lexer": "ipython3",
   "version": "3.10.14"
  }
 },
 "nbformat": 4,
 "nbformat_minor": 5
}
