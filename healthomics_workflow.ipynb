{
 "cells": [
  {
   "cell_type": "markdown",
   "id": "f664edc4-5a8f-46cd-9044-a006075b8fab",
   "metadata": {},
   "source": [
    "# Using HealthOmics Workflow & Runs\n",
    "### The goal of this notebook is to get you acquainted with HealthOmics Storage.\n",
    "\n",
    "#### If you complete this notebook you will have:\n",
    "+ Created a HealthOmics Workflow\n",
    "+ Created a HealthOmics run group\n",
    "+ Run the methylseq workflow\n",
    "\n",
    "\n",
    "## Prerequisites\n",
    "#### Python requirements\n",
    "+ Python >= 3.8\n",
    "#### Packages:\n",
    "+ boto3 >= 1.26.19\n",
    "+ botocore >= 1.29.19\n",
    "#### AWS requirements\n",
    "+ AWS CLI\n",
    "+ You will need the AWS CLI installed and configured in your environment. Supported AWS CLI versions are:\n",
    "    - AWS CLI v2 >= 2.9.3 (Recommended)\n",
    "    - AWS CLI v1 >= 1.27.19\n",
    "    - AWS Region\n",
    "\n",
    "<div class=\"alert alert-block alert-info\">\n",
    "<b>NOTE:</b> AWS HealthOmics only allows importing data within the same region. AWS HealthOmics is currently available in Oregon (us-west-2), N. Virginia (us-east-1), Dublin (eu-west-1), London (eu-west-2), Frankfurt (eu-central-1), and Singapore (ap-southeast-1).</div>"
   ]
  },
  {
   "cell_type": "markdown",
   "id": "1da50683-eaf8-4187-90b9-c99f5e02cb44",
   "metadata": {},
   "source": [
    "## Getting Started\n",
    "### Step 1. Import libraries"
   ]
  },
  {
   "cell_type": "code",
   "execution_count": 54,
   "id": "8068eb6f-26a5-4c34-9164-39134f01abd1",
   "metadata": {
    "tags": []
   },
   "outputs": [],
   "source": [
    "#Import necessary libraries and python SDK\n",
    "from datetime import datetime\n",
    "import json\n",
    "import os\n",
    "import time\n",
    "\n",
    "import boto3\n",
    "import botocore.exceptions"
   ]
  },
  {
   "cell_type": "code",
   "execution_count": 82,
   "id": "af8feb7f-7444-4969-81c6-9dd5168b4089",
   "metadata": {
    "tags": []
   },
   "outputs": [],
   "source": [
    "bucket_name = \"nigms-scrnaseq-bucket-demo\"\n",
    "bucket_name_out = bucket_name+\"-out\"\n",
    "account_id = boto3.client('sts').get_caller_identity().get('Account')\n",
    "region = boto3.session.Session().region_name\n",
    "workflow_name = 'scrnaseq-workflow-test-john'\n",
    "# We will use this as the base name for our role and policy\n",
    "omics_iam_name = 'SageMaker_HealthOmics_test_john'\n"
   ]
  },
  {
   "cell_type": "markdown",
   "id": "976db223-e08e-45b1-af0d-df74129cb147",
   "metadata": {
    "tags": []
   },
   "source": [
    "### Step 2. Create Input and Output S3 Bucket\n",
    "HealthOmics run inputs and outputs must be stored to a S3 bucket."
   ]
  },
  {
   "cell_type": "code",
   "execution_count": 83,
   "id": "e35aed9d-78d1-461b-b240-5fe6e97a4db0",
   "metadata": {
    "tags": []
   },
   "outputs": [
    {
     "name": "stdout",
     "output_type": "stream",
     "text": [
      "make_bucket: nigms-scrnaseq-bucket-demo-out\n"
     ]
    }
   ],
   "source": [
    "!aws s3 mb s3://$bucket_name_out"
   ]
  },
  {
   "cell_type": "code",
   "execution_count": 84,
   "id": "ec34d8a6-7f3c-4d19-ba12-3ec8d61bb74b",
   "metadata": {
    "tags": []
   },
   "outputs": [
    {
     "name": "stdout",
     "output_type": "stream",
     "text": [
      "make_bucket: nigms-scrnaseq-bucket-demo\n"
     ]
    }
   ],
   "source": [
    "!aws s3 mb s3://$bucket_name"
   ]
  },
  {
   "cell_type": "markdown",
   "id": "030723d8-7af6-408d-b1ad-8dc9f07d9fd6",
   "metadata": {
    "tags": []
   },
   "source": [
    "### Step 3. Stage and package Workflow into .zip Folder"
   ]
  },
  {
   "cell_type": "markdown",
   "id": "d07f2f57-ebbb-47ec-ba6e-9f9dd9ce2915",
   "metadata": {
    "tags": []
   },
   "source": [
    "Clone base repos"
   ]
  },
  {
   "cell_type": "code",
   "execution_count": 85,
   "id": "06900a88-c5d8-4b96-9fe7-d31065c8927b",
   "metadata": {
    "tags": []
   },
   "outputs": [
    {
     "name": "stdout",
     "output_type": "stream",
     "text": [
      "Cloning into 'scrnaseq'...\n",
      "remote: Enumerating objects: 5147, done.\u001b[K\n",
      "remote: Counting objects: 100% (1473/1473), done.\u001b[K\n",
      "remote: Compressing objects: 100% (243/243), done.\u001b[K\n",
      "remote: Total 5147 (delta 1317), reused 1230 (delta 1230), pack-reused 3674 (from 1)\u001b[K\n",
      "Receiving objects: 100% (5147/5147), 35.50 MiB | 24.73 MiB/s, done.\n",
      "Resolving deltas: 100% (3192/3192), done.\n",
      "Note: switching to 'cfada12a6f5d773a76d5f1793d70661e95852c53'.\n",
      "\n",
      "You are in 'detached HEAD' state. You can look around, make experimental\n",
      "changes and commit them, and you can discard any commits you make in this\n",
      "state without impacting any branches by switching back to a branch.\n",
      "\n",
      "If you want to create a new branch to retain commits you create, you may\n",
      "do so (now or later) by using -c with the switch command. Example:\n",
      "\n",
      "  git switch -c <new-branch-name>\n",
      "\n",
      "Or undo this operation with:\n",
      "\n",
      "  git switch -\n",
      "\n",
      "Turn off this advice by setting config variable advice.detachedHead to false\n",
      "\n"
     ]
    }
   ],
   "source": [
    "!git clone https://github.com/nf-core/scrnaseq --branch 2.3.0 --single-branch"
   ]
  },
  {
   "cell_type": "code",
   "execution_count": 86,
   "id": "26d7a06b-7c9f-42ef-bc74-f27e72e56201",
   "metadata": {
    "tags": []
   },
   "outputs": [
    {
     "name": "stdout",
     "output_type": "stream",
     "text": [
      "Cloning into 'omx-ecr-helper'...\n",
      "remote: Enumerating objects: 139, done.\u001b[K\n",
      "remote: Counting objects: 100% (139/139), done.\u001b[K\n",
      "remote: Compressing objects: 100% (90/90), done.\u001b[K\n",
      "remote: Total 139 (delta 66), reused 104 (delta 44), pack-reused 0 (from 0)\u001b[K\n",
      "Receiving objects: 100% (139/139), 111.28 KiB | 10.12 MiB/s, done.\n",
      "Resolving deltas: 100% (66/66), done.\n"
     ]
    }
   ],
   "source": [
    "!git clone https://github.com/CBIIT/omx-ecr-helper"
   ]
  },
  {
   "cell_type": "code",
   "execution_count": 87,
   "id": "940d07b6-0e37-440e-b671-041f16975d13",
   "metadata": {
    "tags": []
   },
   "outputs": [
    {
     "name": "stdout",
     "output_type": "stream",
     "text": [
      "Cloning into 'amazon-omics-tutorials'...\n",
      "remote: Enumerating objects: 2412, done.\u001b[K\n",
      "remote: Counting objects: 100% (645/645), done.\u001b[K\n",
      "remote: Compressing objects: 100% (354/354), done.\u001b[K\n",
      "remote: Total 2412 (delta 302), reused 559 (delta 266), pack-reused 1767 (from 1)\u001b[K\n",
      "Receiving objects: 100% (2412/2412), 101.76 MiB | 32.45 MiB/s, done.\n",
      "Resolving deltas: 100% (907/907), done.\n",
      "Updating files: 100% (1444/1444), done.\n"
     ]
    }
   ],
   "source": [
    "!git clone https://github.com/aws-samples/amazon-omics-tutorials.git"
   ]
  },
  {
   "cell_type": "markdown",
   "id": "bd67a77f-eff8-4bc9-a188-175a86ae8c09",
   "metadata": {
    "tags": []
   },
   "source": [
    "## Copy namespace file"
   ]
  },
  {
   "cell_type": "code",
   "execution_count": 88,
   "id": "ff96a4a1-ad4d-4e35-a7dc-5aaa6f28110a",
   "metadata": {
    "tags": []
   },
   "outputs": [],
   "source": [
    "!cp ./omx-ecr-helper/lib/lambda/parse-image-uri/public_registry_properties.json scrnaseq/namespace.config"
   ]
  },
  {
   "cell_type": "markdown",
   "id": "1081e3d1-dd59-4100-805c-c5342f100b73",
   "metadata": {
    "tags": []
   },
   "source": [
    "## Generate omics.config"
   ]
  },
  {
   "cell_type": "code",
   "execution_count": 89,
   "id": "3000c307-62ea-4d53-8f46-8fd22ca09edf",
   "metadata": {
    "tags": []
   },
   "outputs": [
    {
     "name": "stdout",
     "output_type": "stream",
     "text": [
      "Creating container image manifest: scrnaseq/scrnaseq_230_docker_image_manifest.json\n",
      "Creating nextflow config file: scrnaseq/conf/omics.config\n"
     ]
    }
   ],
   "source": [
    "!python3 amazon-omics-tutorials/utils/scripts/inspect_nf.py \\\n",
    "--output-manifest-file scrnaseq/scrnaseq_230_docker_image_manifest.json \\\n",
    "-n scrnaseq/namespace.config \\\n",
    "--output-config-file scrnaseq/conf/omics.config \\\n",
    "--region $region \\\n",
    "scrnaseq/"
   ]
  },
  {
   "cell_type": "code",
   "execution_count": 90,
   "id": "3e314c70-5ce7-4b6a-a970-665300e459f8",
   "metadata": {
    "tags": []
   },
   "outputs": [
    {
     "name": "stdout",
     "output_type": "stream",
     "text": [
      "{\n",
      "    \"executionArn\": \"arn:aws:states:us-east-1:664418964547:execution:omx-container-puller:8f423fbb-831e-4a09-9d94-7a9361f290bd\",\n",
      "    \"startDate\": 1727805698.087\n",
      "}\n"
     ]
    }
   ],
   "source": [
    "!aws stepfunctions start-execution\\\n",
    "    --state-machine-arn arn:aws:states:$region:$account_id:stateMachine:omx-container-puller\\\n",
    "    --input file://scrnaseq/scrnaseq_230_docker_image_manifest.json"
   ]
  },
  {
   "cell_type": "code",
   "execution_count": 105,
   "id": "6ae921d2-3414-400f-9923-73ba88326171",
   "metadata": {
    "tags": []
   },
   "outputs": [],
   "source": [
    "!echo \"includeConfig 'conf/omics.config'\" >> scrnaseq/nextflow.config "
   ]
  },
  {
   "cell_type": "markdown",
   "id": "02fe51b0-d08b-416c-a193-ddabb568edf6",
   "metadata": {
    "tags": []
   },
   "source": [
    "### Step 4. Create parameter-description.json file\n",
    "Create a *.json* file and paste the content below into the file.\n",
    "\n",
    "```json\n",
    "{\n",
    "    \"input\": {\"description\": \"Samplesheet with sample locations.\",\n",
    "                \"optional\": false},\n",
    "    \"protocol\" : {\"description\": \"10X Protocol used: 10XV1, 10XV2, 10XV3\",\n",
    "                \"optional\": false},\n",
    "    \"aligner\": {\"description\": \"choice of aligner: alevin, star, kallisto\",\n",
    "            \"optional\": false},\n",
    "    \"whitelist\": {\"description\": \"Optional whitelist if 10X protocol is not used.\",\n",
    "            \"optional\": true},\n",
    "    \"gtf\": {\"description\": \"S3 path to GTF file\",\n",
    "            \"optional\": false},\n",
    "    \"fasta\": {\"description\": \"S3 path to FASTA file\",\n",
    "            \"optional\": false}\n",
    "}\n",
    "```"
   ]
  },
  {
   "cell_type": "code",
   "execution_count": 106,
   "id": "405616bd-8dba-4305-bb07-0d9b7274aa90",
   "metadata": {
    "tags": []
   },
   "outputs": [],
   "source": [
    "with open('parameter-description.json',\"w\") as f:\n",
    "    f.write(json.dumps({\n",
    "        \"input\": {\"description\": \"Samplesheet with sample locations.\",\n",
    "                    \"optional\": False},\n",
    "        \"protocol\" : {\"description\": \"10X Protocol used: 10XV1, 10XV2, 10XV3\",\n",
    "                    \"optional\": False},\n",
    "        \"aligner\": {\"description\": \"choice of aligner: alevin, star, kallisto\",\n",
    "                \"optional\": False},\n",
    "        \"whitelist\": {\"description\": \"Optional whitelist if 10X protocol is not used.\",\n",
    "                \"optional\": True},\n",
    "        \"gtf\": {\"description\": \"S3 path to GTF file\",\n",
    "                \"optional\": False},\n",
    "        \"fasta\": {\"description\": \"S3 path to FASTA file\",\n",
    "                \"optional\": False}\n",
    "    }))"
   ]
  },
  {
   "cell_type": "markdown",
   "id": "c15ee155-80cd-4daf-980a-ac091e4f2ee1",
   "metadata": {
    "tags": []
   },
   "source": [
    "### Step 5. Stage the Workflow\n",
    "For the purposes of this demo, we will use the following policy and trust policy that are rather permissiv. You will need to customize permissions as required."
   ]
  },
  {
   "cell_type": "code",
   "execution_count": 107,
   "id": "266be9ee-c7c0-4f38-a01b-3d4f1222c455",
   "metadata": {
    "tags": []
   },
   "outputs": [
    {
     "name": "stdout",
     "output_type": "stream",
     "text": [
      "updating: scrnaseq/ (stored 0%)\n",
      "updating: scrnaseq/workflows/ (stored 0%)\n",
      "updating: scrnaseq/workflows/scrnaseq.nf (deflated 78%)\n",
      "updating: scrnaseq/subworkflows/ (stored 0%)\n",
      "updating: scrnaseq/subworkflows/local/ (stored 0%)\n",
      "updating: scrnaseq/subworkflows/local/input_check.nf (deflated 60%)\n",
      "updating: scrnaseq/subworkflows/local/fastqc.nf (deflated 57%)\n",
      "updating: scrnaseq/subworkflows/local/alevin.nf (deflated 65%)\n",
      "updating: scrnaseq/subworkflows/local/align_cellranger.nf (deflated 63%)\n",
      "updating: scrnaseq/subworkflows/local/align_universc.nf (deflated 60%)\n",
      "updating: scrnaseq/subworkflows/local/kallisto_bustools.nf (deflated 66%)\n",
      "updating: scrnaseq/subworkflows/local/mtx_conversion.nf (deflated 61%)\n",
      "updating: scrnaseq/subworkflows/local/starsolo.nf (deflated 60%)\n",
      "updating: scrnaseq/.prettierrc.yml (stored 0%)\n",
      "updating: scrnaseq/.devcontainer/ (stored 0%)\n",
      "updating: scrnaseq/.devcontainer/devcontainer.json (deflated 65%)\n",
      "updating: scrnaseq/main.nf (deflated 75%)\n",
      "updating: scrnaseq/nextflow.config (deflated 71%)\n",
      "updating: scrnaseq/CHANGELOG.md (deflated 60%)\n",
      "updating: scrnaseq/modules.json (deflated 86%)\n",
      "updating: scrnaseq/nextflow_schema.json (deflated 79%)\n",
      "updating: scrnaseq/.editorconfig (deflated 51%)\n",
      "updating: scrnaseq/scrnaseq_230_docker_image_manifest.json (deflated 65%)\n",
      "updating: scrnaseq/.prettierignore (deflated 19%)\n",
      "updating: scrnaseq/lib/ (stored 0%)\n",
      "updating: scrnaseq/lib/nfcore_external_java_deps.jar (deflated 13%)\n",
      "updating: scrnaseq/lib/NfcoreSchema.groovy (deflated 77%)\n",
      "updating: scrnaseq/lib/WorkflowMain.groovy (deflated 69%)\n",
      "updating: scrnaseq/lib/Utils.groovy (deflated 63%)\n",
      "updating: scrnaseq/lib/WorkflowScrnaseq.groovy (deflated 72%)\n",
      "updating: scrnaseq/lib/NfcoreTemplate.groovy (deflated 77%)\n",
      "updating: scrnaseq/namespace.config (deflated 79%)\n",
      "updating: scrnaseq/LICENSE (deflated 41%)\n",
      "updating: scrnaseq/.git/ (stored 0%)\n",
      "updating: scrnaseq/.git/config (deflated 27%)\n",
      "updating: scrnaseq/.git/refs/ (stored 0%)\n",
      "updating: scrnaseq/.git/refs/tags/ (stored 0%)\n",
      "updating: scrnaseq/.git/refs/tags/2.0.0 (stored 0%)\n",
      "updating: scrnaseq/.git/refs/tags/1.0.0 (deflated 2%)\n",
      "updating: scrnaseq/.git/refs/tags/1.1.0 (stored 0%)\n",
      "updating: scrnaseq/.git/refs/tags/2.2.0 (stored 0%)\n",
      "updating: scrnaseq/.git/refs/tags/2.1.0 (stored 0%)\n",
      "updating: scrnaseq/.git/refs/heads/ (stored 0%)\n",
      "updating: scrnaseq/.git/info/ (stored 0%)\n",
      "updating: scrnaseq/.git/info/exclude (deflated 28%)\n",
      "updating: scrnaseq/.git/logs/ (stored 0%)\n",
      "updating: scrnaseq/.git/logs/HEAD (deflated 28%)\n",
      "updating: scrnaseq/.git/HEAD (stored 0%)\n",
      "updating: scrnaseq/.git/description (deflated 14%)\n",
      "updating: scrnaseq/.git/packed-refs (deflated 8%)\n",
      "updating: scrnaseq/.git/hooks/ (stored 0%)\n",
      "updating: scrnaseq/.git/hooks/prepare-commit-msg.sample (deflated 50%)\n",
      "updating: scrnaseq/.git/hooks/pre-push.sample (deflated 49%)\n",
      "updating: scrnaseq/.git/hooks/pre-commit.sample (deflated 45%)\n",
      "updating: scrnaseq/.git/hooks/applypatch-msg.sample (deflated 42%)\n",
      "updating: scrnaseq/.git/hooks/post-update.sample (deflated 27%)\n",
      "updating: scrnaseq/.git/hooks/update.sample (deflated 68%)\n",
      "updating: scrnaseq/.git/hooks/fsmonitor-watchman.sample (deflated 62%)\n",
      "updating: scrnaseq/.git/hooks/pre-receive.sample (deflated 40%)\n",
      "updating: scrnaseq/.git/hooks/push-to-checkout.sample (deflated 55%)\n",
      "updating: scrnaseq/.git/hooks/pre-applypatch.sample (deflated 38%)\n",
      "updating: scrnaseq/.git/hooks/commit-msg.sample (deflated 44%)\n",
      "updating: scrnaseq/.git/hooks/pre-merge-commit.sample (deflated 39%)\n",
      "updating: scrnaseq/.git/hooks/pre-rebase.sample (deflated 59%)\n",
      "updating: scrnaseq/.git/branches/ (stored 0%)\n",
      "updating: scrnaseq/.git/objects/ (stored 0%)\n",
      "updating: scrnaseq/.git/objects/info/ (stored 0%)\n",
      "updating: scrnaseq/.git/objects/pack/ (stored 0%)\n",
      "updating: scrnaseq/.git/objects/pack/pack-5a00bdec3a26a374ae305bc76fe1f338482da066.idx (deflated 2%)\n",
      "updating: scrnaseq/.git/objects/pack/pack-5a00bdec3a26a374ae305bc76fe1f338482da066.pack (deflated 3%)\n",
      "updating: scrnaseq/.git/index (deflated 53%)\n",
      "updating: scrnaseq/.github/ (stored 0%)\n",
      "updating: scrnaseq/.github/workflows/ (stored 0%)\n",
      "updating: scrnaseq/.github/workflows/awsfulltest.yml (deflated 52%)\n",
      "updating: scrnaseq/.github/workflows/fix-linting.yml (deflated 59%)\n",
      "updating: scrnaseq/.github/workflows/linting_comment.yml (deflated 50%)\n",
      "updating: scrnaseq/.github/workflows/branch.yml (deflated 58%)\n",
      "updating: scrnaseq/.github/workflows/ci.yml (deflated 54%)\n",
      "updating: scrnaseq/.github/workflows/awstest.yml (deflated 52%)\n",
      "updating: scrnaseq/.github/workflows/linting.yml (deflated 61%)\n",
      "updating: scrnaseq/.github/PULL_REQUEST_TEMPLATE.md (deflated 51%)\n",
      "updating: scrnaseq/.github/.dockstore.yml (deflated 22%)\n",
      "updating: scrnaseq/.github/ISSUE_TEMPLATE/ (stored 0%)\n",
      "updating: scrnaseq/.github/ISSUE_TEMPLATE/config.yml (deflated 42%)\n",
      "updating: scrnaseq/.github/ISSUE_TEMPLATE/bug_report.yml (deflated 55%)\n",
      "updating: scrnaseq/.github/ISSUE_TEMPLATE/feature_request.yml (deflated 42%)\n",
      "updating: scrnaseq/.github/CONTRIBUTING.md (deflated 59%)\n",
      "updating: scrnaseq/docs/ (stored 0%)\n",
      "updating: scrnaseq/docs/output.md (deflated 63%)\n",
      "updating: scrnaseq/docs/usage.md (deflated 66%)\n",
      "updating: scrnaseq/docs/README.md (deflated 45%)\n",
      "updating: scrnaseq/docs/images/ (stored 0%)\n",
      "updating: scrnaseq/docs/images/scrnaseq_pipeline_v2.0_metro_clean.png (deflated 12%)\n",
      "updating: scrnaseq/docs/images/mqc_fastqc_adapter.png (deflated 15%)\n",
      "updating: scrnaseq/docs/images/mqc_fastqc_quality.png (deflated 7%)\n",
      "updating: scrnaseq/docs/images/scrnaseq_pipeline_v1.0_metro_clean.png (deflated 13%)\n",
      "updating: scrnaseq/docs/images/mqc_fastqc_counts.png (deflated 19%)\n",
      "updating: scrnaseq/docs/images/nf-core-scrnaseq_logo_dark.png (deflated 12%)\n",
      "updating: scrnaseq/docs/images/rnaseq_pipeline_V1.0-metro_clean.svg (deflated 65%)\n",
      "updating: scrnaseq/docs/images/nfcore-scrnaseq_logo.png (deflated 6%)\n",
      "updating: scrnaseq/docs/images/nf-core-scrnaseq_logo_light.png (deflated 12%)\n",
      "updating: scrnaseq/.nf-core.yml (stored 0%)\n",
      "updating: scrnaseq/modules/ (stored 0%)\n",
      "updating: scrnaseq/modules/nf-core/ (stored 0%)\n",
      "updating: scrnaseq/modules/nf-core/star/ (stored 0%)\n",
      "updating: scrnaseq/modules/nf-core/star/genomegenerate/ (stored 0%)\n",
      "updating: scrnaseq/modules/nf-core/star/genomegenerate/main.nf (deflated 69%)\n",
      "updating: scrnaseq/modules/nf-core/star/genomegenerate/meta.yml (deflated 54%)\n",
      "updating: scrnaseq/modules/nf-core/kallistobustools/ (stored 0%)\n",
      "updating: scrnaseq/modules/nf-core/kallistobustools/ref/ (stored 0%)\n",
      "updating: scrnaseq/modules/nf-core/kallistobustools/ref/main.nf (deflated 67%)\n",
      "updating: scrnaseq/modules/nf-core/kallistobustools/ref/meta.yml (deflated 63%)\n",
      "updating: scrnaseq/modules/nf-core/kallistobustools/count/ (stored 0%)\n",
      "updating: scrnaseq/modules/nf-core/kallistobustools/count/main.nf (deflated 52%)\n",
      "updating: scrnaseq/modules/nf-core/kallistobustools/count/meta.yml (deflated 61%)\n",
      "updating: scrnaseq/modules/nf-core/fastqc/ (stored 0%)\n",
      "updating: scrnaseq/modules/nf-core/fastqc/main.nf (deflated 58%)\n",
      "updating: scrnaseq/modules/nf-core/fastqc/meta.yml (deflated 61%)\n",
      "updating: scrnaseq/modules/nf-core/multiqc/ (stored 0%)\n",
      "updating: scrnaseq/modules/nf-core/multiqc/main.nf (deflated 63%)\n",
      "updating: scrnaseq/modules/nf-core/multiqc/meta.yml (deflated 62%)\n",
      "updating: scrnaseq/modules/nf-core/gunzip/ (stored 0%)\n",
      "updating: scrnaseq/modules/nf-core/gunzip/main.nf (deflated 58%)\n",
      "updating: scrnaseq/modules/nf-core/gunzip/meta.yml (deflated 56%)\n",
      "updating: scrnaseq/modules/nf-core/universc/ (stored 0%)\n",
      "updating: scrnaseq/modules/nf-core/universc/main.nf (deflated 63%)\n",
      "updating: scrnaseq/modules/nf-core/universc/CITATION.cff (deflated 71%)\n",
      "updating: scrnaseq/modules/nf-core/universc/meta.yml (deflated 52%)\n",
      "updating: scrnaseq/modules/nf-core/universc/README.md (deflated 58%)\n",
      "updating: scrnaseq/modules/nf-core/cellranger/ (stored 0%)\n",
      "updating: scrnaseq/modules/nf-core/cellranger/mkref/ (stored 0%)\n",
      "updating: scrnaseq/modules/nf-core/cellranger/mkref/main.nf (deflated 47%)\n",
      "updating: scrnaseq/modules/nf-core/cellranger/mkref/meta.yml (deflated 60%)\n",
      "updating: scrnaseq/modules/nf-core/cellranger/mkgtf/ (stored 0%)\n",
      "updating: scrnaseq/modules/nf-core/cellranger/mkgtf/main.nf (deflated 45%)\n",
      "updating: scrnaseq/modules/nf-core/cellranger/mkgtf/meta.yml (deflated 59%)\n",
      "updating: scrnaseq/modules/nf-core/cellranger/count/ (stored 0%)\n",
      "updating: scrnaseq/modules/nf-core/cellranger/count/main.nf (deflated 58%)\n",
      "updating: scrnaseq/modules/nf-core/cellranger/count/meta.yml (deflated 58%)\n",
      "updating: scrnaseq/modules/nf-core/custom/ (stored 0%)\n",
      "updating: scrnaseq/modules/nf-core/custom/dumpsoftwareversions/ (stored 0%)\n",
      "updating: scrnaseq/modules/nf-core/custom/dumpsoftwareversions/main.nf (deflated 47%)\n",
      "updating: scrnaseq/modules/nf-core/custom/dumpsoftwareversions/meta.yml (deflated 68%)\n",
      "updating: scrnaseq/modules/nf-core/custom/dumpsoftwareversions/templates/ (stored 0%)\n",
      "updating: scrnaseq/modules/nf-core/custom/dumpsoftwareversions/templates/dumpsoftwareversions.py (deflated 65%)\n",
      "updating: scrnaseq/modules/nf-core/gffread/ (stored 0%)\n",
      "updating: scrnaseq/modules/nf-core/gffread/main.nf (deflated 50%)\n",
      "updating: scrnaseq/modules/nf-core/gffread/meta.yml (deflated 52%)\n",
      "updating: scrnaseq/modules/local/ (stored 0%)\n",
      "updating: scrnaseq/modules/local/gtf_gene_filter.nf (deflated 48%)\n",
      "updating: scrnaseq/modules/local/concat_h5ad.nf (deflated 50%)\n",
      "updating: scrnaseq/modules/local/gene_map.nf (deflated 46%)\n",
      "updating: scrnaseq/modules/local/mtx_to_h5ad.nf (deflated 69%)\n",
      "updating: scrnaseq/modules/local/star_align.nf (deflated 62%)\n",
      "updating: scrnaseq/modules/local/simpleaf_index.nf (deflated 56%)\n",
      "updating: scrnaseq/modules/local/alevinqc.nf (deflated 55%)\n",
      "updating: scrnaseq/modules/local/samplesheet_check.nf (deflated 47%)\n",
      "updating: scrnaseq/modules/local/mtx_to_seurat.nf (deflated 68%)\n",
      "updating: scrnaseq/modules/local/simpleaf_quant.nf (deflated 58%)\n",
      "updating: scrnaseq/modules/local/gffread_transcriptome.nf (deflated 50%)\n",
      "updating: scrnaseq/README.md (deflated 60%)\n",
      "updating: scrnaseq/tower.yml (deflated 56%)\n",
      "updating: scrnaseq/CITATIONS.md (deflated 49%)\n",
      "updating: scrnaseq/.gitignore (deflated 12%)\n",
      "updating: scrnaseq/bin/ (stored 0%)\n",
      "updating: scrnaseq/bin/t2g.py (deflated 58%)\n",
      "updating: scrnaseq/bin/filter_gtf_for_genes_in_genome.py (deflated 59%)\n",
      "updating: scrnaseq/bin/mtx_to_h5ad.py (deflated 67%)\n",
      "updating: scrnaseq/bin/concat_h5ad.py (deflated 53%)\n",
      "updating: scrnaseq/bin/postprocessing.r (deflated 57%)\n",
      "updating: scrnaseq/bin/check_samplesheet.py (deflated 68%)\n",
      "updating: scrnaseq/bin/mtx_to_seurat.R (deflated 50%)\n",
      "updating: scrnaseq/bin/alevin_qc.r (deflated 43%)\n",
      "updating: scrnaseq/.gitpod.yml (deflated 44%)\n",
      "updating: scrnaseq/CODE_OF_CONDUCT.md (deflated 58%)\n",
      "updating: scrnaseq/.gitattributes (deflated 44%)\n",
      "updating: scrnaseq/conf/ (stored 0%)\n",
      "updating: scrnaseq/conf/test_full.config (deflated 58%)\n",
      "updating: scrnaseq/conf/base.config (deflated 69%)\n",
      "updating: scrnaseq/conf/test.config (deflated 59%)\n",
      "updating: scrnaseq/conf/modules.config (deflated 80%)\n",
      "updating: scrnaseq/conf/igenomes.config (deflated 93%)\n",
      "updating: scrnaseq/conf/multiqc_config.yaml (deflated 45%)\n",
      "updating: scrnaseq/conf/omics.config (deflated 67%)\n",
      "updating: scrnaseq/assets/ (stored 0%)\n",
      "updating: scrnaseq/assets/slackreport.json (deflated 64%)\n",
      "updating: scrnaseq/assets/whitelist/ (stored 0%)\n",
      "updating: scrnaseq/assets/whitelist/10x_V2_barcode_whitelist.txt.gz (deflated 18%)\n",
      "updating: scrnaseq/assets/whitelist/10x_V3_barcode_whitelist.txt.gz (deflated 10%)\n",
      "updating: scrnaseq/assets/whitelist/10x_V1_barcode_whitelist.txt.gz (deflated 38%)\n",
      "updating: scrnaseq/assets/sendmail_template.txt (deflated 60%)\n",
      "updating: scrnaseq/assets/samplesheet.csv (deflated 79%)\n",
      "updating: scrnaseq/assets/email_template.txt (deflated 60%)\n",
      "updating: scrnaseq/assets/email_template.html (deflated 59%)\n",
      "updating: scrnaseq/assets/schema_input.json (deflated 68%)\n",
      "updating: scrnaseq/assets/multiqc_config.yml (deflated 46%)\n",
      "updating: scrnaseq/assets/methods_description_template.yml (deflated 51%)\n",
      "updating: scrnaseq/assets/nf-core-scrnaseq_logo_light.png (deflated 2%)\n",
      "updating: scrnaseq/assets/adaptivecard.json (deflated 75%)\n",
      "updating: scrnaseq/pyproject.toml (deflated 31%)\n",
      "  adding: scrnaseq/.ipynb_checkpoints/ (stored 0%)\n",
      "  adding: scrnaseq/.ipynb_checkpoints/nextflow-checkpoint.config (deflated 71%)\n"
     ]
    }
   ],
   "source": [
    "!zip -r scrnaseq-workflow.zip scrnaseq"
   ]
  },
  {
   "cell_type": "code",
   "execution_count": null,
   "id": "7068ac22-993d-42d3-b251-82eb353c3a0d",
   "metadata": {
    "tags": []
   },
   "outputs": [],
   "source": [
    "#if zip file is > 4mb move to bucket you created during ECR setup\n",
    "!aws s3 cp scrnaseq-workflow.zip s3://<yourbucket>/workshop/scrnaseq-workflow.zip"
   ]
  },
  {
   "cell_type": "code",
   "execution_count": 108,
   "id": "aaa0cdfc-fd4c-4005-90e8-6e49db2b1811",
   "metadata": {
    "tags": []
   },
   "outputs": [
    {
     "name": "stdout",
     "output_type": "stream",
     "text": [
      "upload: ./scrnaseq-workflow.zip to s3://nigms-scrnaseq-bucket-demo/demo_workflow/scrnaseq-workflow.zip\n"
     ]
    }
   ],
   "source": [
    "!aws s3 cp scrnaseq-workflow.zip s3://$bucket_name/demo_workflow/scrnaseq-workflow.zip"
   ]
  },
  {
   "cell_type": "markdown",
   "id": "99abe78a-f6f0-4e4b-a74d-d73db9a50d01",
   "metadata": {},
   "source": [
    "### Step 6. Create Workflow using zipped workflow and parameters-description.json\n"
   ]
  },
  {
   "cell_type": "code",
   "execution_count": 109,
   "id": "d036f0af-f6ea-4a57-9677-5511921ccb8a",
   "metadata": {
    "tags": []
   },
   "outputs": [
    {
     "name": "stdout",
     "output_type": "stream",
     "text": [
      "{\n",
      "    \"arn\": \"arn:aws:omics:us-east-1:664418964547:workflow/2169252\",\n",
      "    \"id\": \"2169252\",\n",
      "    \"status\": \"CREATING\",\n",
      "    \"tags\": {}\n",
      "}\n"
     ]
    }
   ],
   "source": [
    "!aws omics create-workflow \\\n",
    "    --name $workflow_name \\\n",
    "    --definition-uri s3://$bucket_name/demo_workflow/scrnaseq-workflow.zip \\\n",
    "    --parameter-template file://parameter-description.json  \\\n",
    "    --engine NEXTFLOW"
   ]
  },
  {
   "cell_type": "code",
   "execution_count": null,
   "id": "80fb685a-a7f6-43ce-b5cd-6695dcb5b6c1",
   "metadata": {
    "tags": []
   },
   "outputs": [],
   "source": [
    "#see workflow and make sure status is Active\n",
    "!aws omics list-workflows --name $workflow_name"
   ]
  },
  {
   "cell_type": "markdown",
   "id": "83009ab3-668a-4415-9cc5-8a8cf1e88f5a",
   "metadata": {},
   "source": [
    "## Retrieve Workflow ID"
   ]
  },
  {
   "cell_type": "code",
   "execution_count": 111,
   "id": "fe488574-2bab-478a-bea4-6da804887481",
   "metadata": {
    "tags": []
   },
   "outputs": [],
   "source": [
    "client = boto3.client('omics')\n",
    "workflow_id = client.list_workflows(\n",
    "    type='PRIVATE',\n",
    "    name=workflow_name,\n",
    ")['items'][0]['id']"
   ]
  },
  {
   "cell_type": "markdown",
   "id": "240752ab-79eb-4889-a698-8a1c6c449470",
   "metadata": {
    "tags": []
   },
   "source": [
    "### Step 7. Setup Inputs\n",
    "We need an input.json that specifies what our input parameters are"
   ]
  },
  {
   "cell_type": "code",
   "execution_count": 112,
   "id": "63a57b0c-c685-41e3-80db-16b59d39b439",
   "metadata": {
    "tags": []
   },
   "outputs": [],
   "source": [
    "with open('input.json',\"w\") as f:\n",
    "    f.write(json.dumps({\n",
    "        \"input\": \"s3://aws-genomics-static-us-east-1/workflow_migration_workshop/nfcore-scrnaseq-v2.3.0/samplesheet-2-0.csv\",\n",
    "        \"protocol\": \"10XV2\",\n",
    "        \"aligner\": \"star\",\n",
    "        \"fasta\": \"s3://aws-genomics-static-us-east-1/workflow_migration_workshop/nfcore-scrnaseq-v2.3.0/GRCm38.p6.genome.chr19.fa\",\n",
    "        \"gtf\": \"s3://aws-genomics-static-us-east-1/workflow_migration_workshop/nfcore-scrnaseq-v2.3.0/gencode.vM19.annotation.chr19.gtf\"\n",
    "}))"
   ]
  },
  {
   "cell_type": "markdown",
   "id": "142fcd5e-b123-43de-b4a1-e474177d3030",
   "metadata": {
    "tags": []
   },
   "source": [
    "### Step 8. Setup new role\n",
    "For the purposes of this demo, we will use the following policy and trust policy that restricts usage to only the required s3 buckets. You will need to customize permissions as required."
   ]
  },
  {
   "cell_type": "code",
   "execution_count": 98,
   "id": "be9e0ff0-8ab7-41e0-9cd1-41cf226e6d23",
   "metadata": {
    "tags": []
   },
   "outputs": [],
   "source": [
    "# Define demo policies\n",
    "omics_demo_policy = {\n",
    "    \"Version\": \"2012-10-17\",\n",
    "    \"Statement\": [\n",
    "        {\n",
    "            \"Effect\": \"Allow\",\n",
    "            \"Action\": [\n",
    "                \"s3:GetObject\"\n",
    "            ],\n",
    "            \"Resource\": [\n",
    "                \"arn:aws:s3:::\"+bucket_name+\"/*\",\n",
    "                \"arn:aws:s3:::\"+bucket_name_out+\"/*\",\n",
    "                \"arn:aws:s3:::aws-genomics-static-us-east-1/workflow_migration_workshop/nfcore-scrnaseq-v2.3.0/*\"\n",
    "            ]\n",
    "        },\n",
    "        {\n",
    "            \"Effect\": \"Allow\",\n",
    "            \"Action\": [\n",
    "                \"s3:ListBucket\"\n",
    "            ],\n",
    "            \"Resource\": [\n",
    "                \"arn:aws:s3:::\"+bucket_name,\n",
    "                \"arn:aws:s3:::\"+bucket_name_out+\"/*\",\n",
    "                \"arn:aws:s3:::aws-genomics-static-us-east-1/workflow_migration_workshop/nfcore-scrnaseq-v2.3.0\"\n",
    "            ]\n",
    "        },\n",
    "        {\n",
    "            \"Effect\": \"Allow\",\n",
    "            \"Action\": [\n",
    "                \"s3:PutObject\"\n",
    "            ],\n",
    "            \"Resource\": [\n",
    "                \"arn:aws:s3:::\"+bucket_name+\"/*\",\n",
    "                \"arn:aws:s3:::\"+bucket_name_out+\"/*\",\n",
    "            ]\n",
    "        },\n",
    "        {\n",
    "            \"Effect\": \"Allow\",\n",
    "            \"Action\": [\n",
    "                \"logs:DescribeLogStreams\",\n",
    "                \"logs:CreateLogStream\",\n",
    "                \"logs:PutLogEvents\"\n",
    "            ],\n",
    "            \"Resource\": [\n",
    "                \"arn:aws:logs:\"+region+\":\"+account_id+\":log-group:/aws/omics/WorkflowLog:log-stream:*\"\n",
    "            ]\n",
    "        },\n",
    "        {\n",
    "            \"Effect\": \"Allow\",\n",
    "            \"Action\": [\n",
    "                \"logs:CreateLogGroup\"\n",
    "            ],\n",
    "            \"Resource\": [\n",
    "                \"arn:aws:logs:\"+region+\":\"+account_id+\":log-group:/aws/omics/WorkflowLog:*\"\n",
    "            ]\n",
    "        },\n",
    "        {\n",
    "            \"Effect\": \"Allow\",\n",
    "            \"Action\": [\n",
    "                \"ecr:BatchGetImage\",\n",
    "                \"ecr:GetDownloadUrlForLayer\",\n",
    "                \"ecr:BatchCheckLayerAvailability\"\n",
    "            ],\n",
    "            \"Resource\": [\n",
    "                \"arn:aws:ecr:\"+region+\":\"+account_id+\":repository/*\"\n",
    "            ]\n",
    "        }\n",
    "    ]\n",
    "}\n",
    "\n",
    "scrnaseq_workflow_demo_trust_policy = {\n",
    "    \"Version\": \"2012-10-17\",\n",
    "    \"Statement\": [\n",
    "        {\n",
    "            \"Effect\": \"Allow\",\n",
    "            \"Principal\": {\n",
    "                \"Service\": \"omics.amazonaws.com\"\n",
    "            },\n",
    "            \"Action\": \"sts:AssumeRole\",\n",
    "            \"Condition\": {\n",
    "                \"StringEquals\": {\n",
    "                    \"aws:SourceAccount\": account_id\n",
    "                },\n",
    "                \"ArnLike\": {\n",
    "                    \"aws:SourceArn\": \"arn:aws:omics:\"+region+\":\"+account_id+\":run/*\"\n",
    "                }\n",
    "            }\n",
    "        }\n",
    "    ]\n",
    "}"
   ]
  },
  {
   "cell_type": "code",
   "execution_count": 99,
   "id": "86ab3be3-5724-4f05-8e6b-80528cca2b9a",
   "metadata": {
    "tags": []
   },
   "outputs": [],
   "source": [
    "# Create the iam client\n",
    "iam = boto3.resource('iam')\n",
    "\n",
    "# Check if the role already exists; if not, create it\n",
    "try:\n",
    "    role = iam.Role(omics_iam_name)\n",
    "    role.load()\n",
    "    \n",
    "except botocore.exceptions.ClientError as ex:\n",
    "    if ex.response[\"Error\"][\"Code\"] == \"NoSuchEntity\":\n",
    "        #Create the role with the corresponding trust policy\n",
    "        role = iam.create_role(\n",
    "            RoleName=omics_iam_name, \n",
    "            AssumeRolePolicyDocument=json.dumps(scrnaseq_workflow_demo_trust_policy))\n",
    "        \n",
    "        #Create policy\n",
    "        policy = iam.create_policy(\n",
    "            PolicyName='{}-policy'.format(omics_iam_name), \n",
    "            Description=\"Policy for AWS HealthOmics demo\",\n",
    "            PolicyDocument=json.dumps(omics_demo_policy))\n",
    "        \n",
    "        #Attach the policy to the role\n",
    "        policy.attach_role(RoleName=omics_iam_name)\n",
    "    else:\n",
    "        print('Something went wrong, please retry and check your account settings and permissions')"
   ]
  },
  {
   "cell_type": "code",
   "execution_count": 100,
   "id": "f915b6a3-a6f5-43ee-8e05-51fd9117ff00",
   "metadata": {
    "tags": []
   },
   "outputs": [],
   "source": [
    "#Retrieve the role arn, which grants AWS HealthOmics the proper permissions to access the resources it needs in your AWS account.\n",
    "def get_role_arn(role_name):\n",
    "    try:\n",
    "        iam = boto3.resource('iam')\n",
    "        role = iam.Role(role_name)\n",
    "        role.load()  # calls GetRole to load attributes\n",
    "    except botocore.exceptions.ClientError:\n",
    "        print(\"Couldn't get role named %s.\"%role_name)\n",
    "        raise\n",
    "    else:\n",
    "        print(role.arn)\n",
    "        return role.arn"
   ]
  },
  {
   "cell_type": "code",
   "execution_count": 101,
   "id": "fda382e4-3b8a-45b5-a35d-af935581f90a",
   "metadata": {
    "tags": []
   },
   "outputs": [
    {
     "name": "stdout",
     "output_type": "stream",
     "text": [
      "arn:aws:iam::664418964547:role/SageMaker_HealthOmics_test_john\n"
     ]
    }
   ],
   "source": [
    "#Print role name and role arn to be used in store creation and upload\n",
    "role_arn = get_role_arn(omics_iam_name)"
   ]
  },
  {
   "cell_type": "markdown",
   "id": "2c8da4a9-dc7c-4338-8eb7-5139996014bc",
   "metadata": {
    "tags": []
   },
   "source": [
    "## Step 9. Running "
   ]
  },
  {
   "cell_type": "code",
   "execution_count": null,
   "id": "b6bb3849-c1ae-4462-9faf-fe238dc2f0ae",
   "metadata": {},
   "outputs": [],
   "source": [
    "!aws omics start-run --workflow-id [workflow id] \\\n",
    "     --role-arn [role arn] \\\n",
    "     --name [workflow name] \\\n",
    "     --parameters [input parameter JSON File] \\\n",
    "     --output-uri [s3 bucket output]"
   ]
  },
  {
   "cell_type": "code",
   "execution_count": 113,
   "id": "d3d273ff-ca08-40d8-945d-b8d4f8007baf",
   "metadata": {
    "tags": []
   },
   "outputs": [
    {
     "name": "stdout",
     "output_type": "stream",
     "text": [
      "{\n",
      "    \"arn\": \"arn:aws:omics:us-east-1:664418964547:run/5530249\",\n",
      "    \"id\": \"5530249\",\n",
      "    \"status\": \"PENDING\",\n",
      "    \"tags\": {},\n",
      "    \"uuid\": \"f2c924a7-8436-64bd-65a6-9e4033ce6d5e\",\n",
      "    \"runOutputUri\": \"s3://nigms-scrnaseq-bucket-demo/5530249\"\n",
      "}\n"
     ]
    }
   ],
   "source": [
    "!aws omics start-run \\\n",
    "  --name scrnaseq_john_workshop_test_run_1 \\\n",
    "  --role-arn $role_arn \\\n",
    "  --workflow-id $workflow_id \\\n",
    "  --parameters file://input.json \\\n",
    "  --output-uri s3://$bucket_name"
   ]
  },
  {
   "cell_type": "code",
   "execution_count": 114,
   "id": "5c621122-7391-453b-a65d-f646f721133d",
   "metadata": {
    "tags": []
   },
   "outputs": [
    {
     "name": "stdout",
     "output_type": "stream",
     "text": [
      "{\n",
      "    \"items\": [\n",
      "        {\n",
      "            \"arn\": \"arn:aws:omics:us-east-1:664418964547:run/5530249\",\n",
      "            \"id\": \"5530249\",\n",
      "            \"status\": \"PENDING\",\n",
      "            \"workflowId\": \"2169252\",\n",
      "            \"name\": \"scrnaseq_john_workshop_test_run_1\",\n",
      "            \"creationTime\": \"2024-10-01T18:19:29.24713Z\",\n",
      "            \"storageType\": \"STATIC\"\n",
      "        },\n",
      "        {\n",
      "            \"arn\": \"arn:aws:omics:us-east-1:664418964547:run/3102853\",\n",
      "            \"id\": \"3102853\",\n",
      "            \"status\": \"RUNNING\",\n",
      "            \"workflowId\": \"7679861\",\n",
      "            \"name\": \"scrnaseq_john_workshop_test_run_1\",\n",
      "            \"creationTime\": \"2024-10-01T18:02:41.28628Z\",\n",
      "            \"startTime\": \"2024-10-01T18:14:06.58400Z\",\n",
      "            \"storageType\": \"STATIC\"\n",
      "        },\n",
      "        {\n",
      "            \"arn\": \"arn:aws:omics:us-east-1:664418964547:run/7764429\",\n",
      "            \"id\": \"7764429\",\n",
      "            \"status\": \"FAILED\",\n",
      "            \"workflowId\": \"8364307\",\n",
      "            \"name\": \"fastqc_demo_test_run_2\",\n",
      "            \"creationTime\": \"2024-10-01T13:54:48.25697Z\",\n",
      "            \"startTime\": \"2024-10-01T14:06:38.27200Z\",\n",
      "            \"stopTime\": \"2024-10-01T14:19:58.43041Z\",\n",
      "            \"storageType\": \"STATIC\"\n",
      "        },\n",
      "        {\n",
      "            \"arn\": \"arn:aws:omics:us-east-1:664418964547:run/4169024\",\n",
      "            \"id\": \"4169024\",\n",
      "            \"status\": \"FAILED\",\n",
      "            \"workflowId\": \"2035899\",\n",
      "            \"name\": \"fastqc_demo_test_run_1\",\n",
      "            \"creationTime\": \"2024-09-30T22:40:06.54332Z\",\n",
      "            \"startTime\": \"2024-09-30T22:51:07.73500Z\",\n",
      "            \"stopTime\": \"2024-09-30T23:05:54.27576Z\",\n",
      "            \"storageType\": \"STATIC\"\n",
      "        },\n",
      "        {\n",
      "            \"arn\": \"arn:aws:omics:us-east-1:664418964547:run/5742715\",\n",
      "            \"id\": \"5742715\",\n",
      "            \"status\": \"FAILED\",\n",
      "            \"workflowId\": \"7861317\",\n",
      "            \"name\": \"scrnaseq_workshop_test_run_1\",\n",
      "            \"creationTime\": \"2024-09-30T20:34:04.77433Z\",\n",
      "            \"startTime\": \"2024-09-30T20:42:58.87300Z\",\n",
      "            \"stopTime\": \"2024-09-30T20:57:02.75017Z\",\n",
      "            \"storageType\": \"STATIC\"\n",
      "        },\n",
      "        {\n",
      "            \"arn\": \"arn:aws:omics:us-east-1:664418964547:run/8330072\",\n",
      "            \"id\": \"8330072\",\n",
      "            \"status\": \"COMPLETED\",\n",
      "            \"workflowId\": \"9701407\",\n",
      "            \"name\": \"somatic-demo_rerun_20240930120039_clone_run_20240930150444\",\n",
      "            \"priority\": 100,\n",
      "            \"storageCapacity\": 1200,\n",
      "            \"creationTime\": \"2024-09-30T19:19:51.04498Z\",\n",
      "            \"startTime\": \"2024-09-30T19:30:58.96700Z\",\n",
      "            \"stopTime\": \"2024-09-30T20:31:13.44496Z\",\n",
      "            \"storageType\": \"STATIC\"\n",
      "        },\n",
      "        {\n",
      "            \"arn\": \"arn:aws:omics:us-east-1:664418964547:run/6489976\",\n",
      "            \"id\": \"6489976\",\n",
      "            \"status\": \"FAILED\",\n",
      "            \"workflowId\": \"4228907\",\n",
      "            \"name\": \"scrnaseq_workshop_test_run_1\",\n",
      "            \"creationTime\": \"2024-09-30T18:36:23.46708Z\",\n",
      "            \"startTime\": \"2024-09-30T18:56:51.83200Z\",\n",
      "            \"stopTime\": \"2024-09-30T19:09:53.55823Z\",\n",
      "            \"storageType\": \"STATIC\"\n",
      "        },\n",
      "        {\n",
      "            \"arn\": \"arn:aws:omics:us-east-1:664418964547:run/7674459\",\n",
      "            \"id\": \"7674459\",\n",
      "            \"status\": \"FAILED\",\n",
      "            \"workflowId\": \"7861317\",\n",
      "            \"name\": \"scrnaseq_workshop_test_run_1\",\n",
      "            \"creationTime\": \"2024-09-30T18:30:01.33344Z\",\n",
      "            \"startTime\": \"2024-09-30T18:42:23.47900Z\",\n",
      "            \"stopTime\": \"2024-09-30T18:54:58.43497Z\",\n",
      "            \"storageType\": \"STATIC\"\n",
      "        },\n",
      "        {\n",
      "            \"arn\": \"arn:aws:omics:us-east-1:664418964547:run/5746801\",\n",
      "            \"id\": \"5746801\",\n",
      "            \"status\": \"COMPLETED\",\n",
      "            \"workflowId\": \"9701407\",\n",
      "            \"name\": \"somatic-demo_rerun_20240930120039\",\n",
      "            \"priority\": 100,\n",
      "            \"storageCapacity\": 1200,\n",
      "            \"creationTime\": \"2024-09-30T16:00:39.94071Z\",\n",
      "            \"startTime\": \"2024-09-30T16:11:16.78000Z\",\n",
      "            \"stopTime\": \"2024-09-30T17:10:34.12512Z\",\n",
      "            \"storageType\": \"STATIC\"\n",
      "        },\n",
      "        {\n",
      "            \"arn\": \"arn:aws:omics:us-east-1:664418964547:run/4441535\",\n",
      "            \"id\": \"4441535\",\n",
      "            \"status\": \"FAILED\",\n",
      "            \"workflowId\": \"9994364\",\n",
      "            \"name\": \"scrnaseq_workshop_test_run_1\",\n",
      "            \"creationTime\": \"2024-09-30T13:52:11.01245Z\",\n",
      "            \"startTime\": \"2024-09-30T14:01:26.85400Z\",\n",
      "            \"stopTime\": \"2024-09-30T14:13:57.65057Z\",\n",
      "            \"storageType\": \"STATIC\"\n",
      "        },\n",
      "        {\n",
      "            \"arn\": \"arn:aws:omics:us-east-1:664418964547:run/3345260\",\n",
      "            \"id\": \"3345260\",\n",
      "            \"status\": \"FAILED\",\n",
      "            \"workflowId\": \"9129593\",\n",
      "            \"name\": \"methylseq-workflow-v4\",\n",
      "            \"creationTime\": \"2024-09-30T02:04:42.53162Z\",\n",
      "            \"startTime\": \"2024-09-30T02:14:04.56200Z\",\n",
      "            \"stopTime\": \"2024-09-30T02:25:24.66606Z\",\n",
      "            \"storageType\": \"STATIC\"\n",
      "        },\n",
      "        {\n",
      "            \"arn\": \"arn:aws:omics:us-east-1:664418964547:run/6417631\",\n",
      "            \"id\": \"6417631\",\n",
      "            \"status\": \"FAILED\",\n",
      "            \"workflowId\": \"8769278\",\n",
      "            \"name\": \"methylseq-workflow_v3\",\n",
      "            \"creationTime\": \"2024-09-30T00:00:38.37389Z\",\n",
      "            \"startTime\": \"2024-09-30T00:14:27.05300Z\",\n",
      "            \"stopTime\": \"2024-09-30T00:25:47.67002Z\",\n",
      "            \"storageType\": \"STATIC\"\n",
      "        },\n",
      "        {\n",
      "            \"arn\": \"arn:aws:omics:us-east-1:664418964547:run/4956365\",\n",
      "            \"id\": \"4956365\",\n",
      "            \"status\": \"FAILED\",\n",
      "            \"workflowId\": \"1759920\",\n",
      "            \"name\": \"methylseq-workflow_v3\",\n",
      "            \"creationTime\": \"2024-09-29T22:59:45.33332Z\",\n",
      "            \"startTime\": \"2024-09-29T23:11:54.76400Z\",\n",
      "            \"stopTime\": \"2024-09-29T23:23:13.66908Z\",\n",
      "            \"storageType\": \"STATIC\"\n",
      "        },\n",
      "        {\n",
      "            \"arn\": \"arn:aws:omics:us-east-1:664418964547:run/5800218\",\n",
      "            \"id\": \"5800218\",\n",
      "            \"status\": \"FAILED\",\n",
      "            \"workflowId\": \"3405788\",\n",
      "            \"name\": \"methylseq-workflow_v3\",\n",
      "            \"creationTime\": \"2024-09-29T22:26:09.70749Z\",\n",
      "            \"startTime\": \"2024-09-29T22:34:59.28200Z\",\n",
      "            \"stopTime\": \"2024-09-29T22:46:20.27232Z\",\n",
      "            \"storageType\": \"STATIC\"\n",
      "        },\n",
      "        {\n",
      "            \"arn\": \"arn:aws:omics:us-east-1:664418964547:run/3928445\",\n",
      "            \"id\": \"3928445\",\n",
      "            \"status\": \"FAILED\",\n",
      "            \"workflowId\": \"2334918\",\n",
      "            \"name\": \"methylseq-workflow_v3\",\n",
      "            \"creationTime\": \"2024-09-29T22:01:22.97680Z\",\n",
      "            \"startTime\": \"2024-09-29T22:11:53.14600Z\",\n",
      "            \"stopTime\": \"2024-09-29T22:23:10.81170Z\",\n",
      "            \"storageType\": \"STATIC\"\n",
      "        },\n",
      "        {\n",
      "            \"arn\": \"arn:aws:omics:us-east-1:664418964547:run/8129643\",\n",
      "            \"id\": \"8129643\",\n",
      "            \"status\": \"FAILED\",\n",
      "            \"workflowId\": \"2062080\",\n",
      "            \"name\": \"methylseq-workflow_v3\",\n",
      "            \"creationTime\": \"2024-09-29T20:57:21.91409Z\",\n",
      "            \"startTime\": \"2024-09-29T21:06:13.98600Z\",\n",
      "            \"stopTime\": \"2024-09-29T21:16:34.73902Z\",\n",
      "            \"storageType\": \"STATIC\"\n",
      "        },\n",
      "        {\n",
      "            \"arn\": \"arn:aws:omics:us-east-1:664418964547:run/6330421\",\n",
      "            \"id\": \"6330421\",\n",
      "            \"status\": \"FAILED\",\n",
      "            \"workflowId\": \"3481608\",\n",
      "            \"name\": \"methylseq-workflow_V3\",\n",
      "            \"creationTime\": \"2024-09-28T22:07:31.61647Z\",\n",
      "            \"startTime\": \"2024-09-28T22:17:48.07400Z\",\n",
      "            \"stopTime\": \"2024-09-28T22:28:04.97586Z\",\n",
      "            \"storageType\": \"STATIC\"\n",
      "        },\n",
      "        {\n",
      "            \"arn\": \"arn:aws:omics:us-east-1:664418964547:run/1366430\",\n",
      "            \"id\": \"1366430\",\n",
      "            \"status\": \"FAILED\",\n",
      "            \"workflowId\": \"5696806\",\n",
      "            \"name\": \"methylseq-workflow_LC\",\n",
      "            \"creationTime\": \"2024-09-28T21:01:35.60541Z\",\n",
      "            \"startTime\": \"2024-09-28T21:13:07.32000Z\",\n",
      "            \"stopTime\": \"2024-09-28T21:25:00.93013Z\",\n",
      "            \"storageType\": \"STATIC\"\n",
      "        },\n",
      "        {\n",
      "            \"arn\": \"arn:aws:omics:us-east-1:664418964547:run/6415508\",\n",
      "            \"id\": \"6415508\",\n",
      "            \"status\": \"FAILED\",\n",
      "            \"workflowId\": \"1770273\",\n",
      "            \"name\": \"methylseq-workflow_V3\",\n",
      "            \"creationTime\": \"2024-09-28T19:48:54.69743Z\",\n",
      "            \"startTime\": \"2024-09-28T19:58:56.17800Z\",\n",
      "            \"stopTime\": \"2024-09-28T20:10:23.46699Z\",\n",
      "            \"storageType\": \"STATIC\"\n",
      "        },\n",
      "        {\n",
      "            \"arn\": \"arn:aws:omics:us-east-1:664418964547:run/3477190\",\n",
      "            \"id\": \"3477190\",\n",
      "            \"status\": \"FAILED\",\n",
      "            \"workflowId\": \"6616761\",\n",
      "            \"name\": \"methylseq-workflow_jp\",\n",
      "            \"creationTime\": \"2024-09-28T18:30:39.70091Z\",\n",
      "            \"startTime\": \"2024-09-28T18:40:39.36500Z\",\n",
      "            \"stopTime\": \"2024-09-28T18:50:59.11806Z\",\n",
      "            \"storageType\": \"STATIC\"\n",
      "        },\n",
      "        {\n",
      "            \"arn\": \"arn:aws:omics:us-east-1:664418964547:run/9139870\",\n",
      "            \"id\": \"9139870\",\n",
      "            \"status\": \"FAILED\",\n",
      "            \"workflowId\": \"2507129\",\n",
      "            \"name\": \"methylseq-workflow_V4\",\n",
      "            \"creationTime\": \"2024-09-27T23:51:23.76516Z\",\n",
      "            \"startTime\": \"2024-09-28T00:01:56.78700Z\",\n",
      "            \"stopTime\": \"2024-09-28T00:13:16.77794Z\",\n",
      "            \"storageType\": \"STATIC\"\n",
      "        },\n",
      "        {\n",
      "            \"arn\": \"arn:aws:omics:us-east-1:664418964547:run/7945279\",\n",
      "            \"id\": \"7945279\",\n",
      "            \"status\": \"FAILED\",\n",
      "            \"workflowId\": \"6479405\",\n",
      "            \"name\": \"methylseq-workflow_V3\",\n",
      "            \"creationTime\": \"2024-09-27T21:27:28.77332Z\",\n",
      "            \"startTime\": \"2024-09-27T21:37:44.25500Z\",\n",
      "            \"stopTime\": \"2024-09-27T21:49:03.52415Z\",\n",
      "            \"storageType\": \"STATIC\"\n",
      "        },\n",
      "        {\n",
      "            \"arn\": \"arn:aws:omics:us-east-1:664418964547:run/8692021\",\n",
      "            \"id\": \"8692021\",\n",
      "            \"status\": \"FAILED\",\n",
      "            \"workflowId\": \"2537099\",\n",
      "            \"name\": \"methylseq-workflow_V2\",\n",
      "            \"creationTime\": \"2024-09-27T20:19:05.83540Z\",\n",
      "            \"startTime\": \"2024-09-27T20:30:08.72300Z\",\n",
      "            \"stopTime\": \"2024-09-27T20:41:59.05401Z\",\n",
      "            \"storageType\": \"STATIC\"\n",
      "        },\n",
      "        {\n",
      "            \"arn\": \"arn:aws:omics:us-east-1:664418964547:run/5321330\",\n",
      "            \"id\": \"5321330\",\n",
      "            \"status\": \"FAILED\",\n",
      "            \"workflowId\": \"8553549\",\n",
      "            \"name\": \"methylseq-workflow\",\n",
      "            \"creationTime\": \"2024-09-27T18:54:24.55691Z\",\n",
      "            \"startTime\": \"2024-09-27T19:04:02.45100Z\",\n",
      "            \"stopTime\": \"2024-09-27T19:14:51.05082Z\",\n",
      "            \"storageType\": \"STATIC\"\n",
      "        },\n",
      "        {\n",
      "            \"arn\": \"arn:aws:omics:us-east-1:664418964547:run/9940556\",\n",
      "            \"id\": \"9940556\",\n",
      "            \"status\": \"FAILED\",\n",
      "            \"workflowId\": \"8553549\",\n",
      "            \"name\": \"methylseq-workflow\",\n",
      "            \"creationTime\": \"2024-09-27T18:43:55.02732Z\",\n",
      "            \"startTime\": \"2024-09-27T18:53:37.61000Z\",\n",
      "            \"stopTime\": \"2024-09-27T19:03:56.08657Z\",\n",
      "            \"storageType\": \"STATIC\"\n",
      "        },\n",
      "        {\n",
      "            \"arn\": \"arn:aws:omics:us-east-1:664418964547:run/1930417\",\n",
      "            \"id\": \"1930417\",\n",
      "            \"status\": \"FAILED\",\n",
      "            \"workflowId\": \"8553549\",\n",
      "            \"name\": \"methylseq-workflow\",\n",
      "            \"creationTime\": \"2024-09-27T18:40:21.08744Z\",\n",
      "            \"startTime\": \"2024-09-27T18:52:03.12500Z\",\n",
      "            \"stopTime\": \"2024-09-27T19:03:33.94976Z\",\n",
      "            \"storageType\": \"STATIC\"\n",
      "        },\n",
      "        {\n",
      "            \"arn\": \"arn:aws:omics:us-east-1:664418964547:run/6756744\",\n",
      "            \"id\": \"6756744\",\n",
      "            \"status\": \"FAILED\",\n",
      "            \"workflowId\": \"8553549\",\n",
      "            \"name\": \"TestRunv2\",\n",
      "            \"priority\": 100,\n",
      "            \"storageCapacity\": 2400,\n",
      "            \"creationTime\": \"2024-09-27T18:06:31.13861Z\",\n",
      "            \"startTime\": \"2024-09-27T18:16:44.83400Z\",\n",
      "            \"stopTime\": \"2024-09-27T18:27:05.03542Z\",\n",
      "            \"storageType\": \"STATIC\"\n",
      "        },\n",
      "        {\n",
      "            \"arn\": \"arn:aws:omics:us-east-1:664418964547:run/6277346\",\n",
      "            \"id\": \"6277346\",\n",
      "            \"status\": \"FAILED\",\n",
      "            \"workflowId\": \"8553549\",\n",
      "            \"name\": \"Test Run\",\n",
      "            \"priority\": 100,\n",
      "            \"storageCapacity\": 1200,\n",
      "            \"creationTime\": \"2024-09-27T17:34:07.64614Z\",\n",
      "            \"startTime\": \"2024-09-27T17:44:19.08000Z\",\n",
      "            \"stopTime\": \"2024-09-27T17:54:40.66496Z\",\n",
      "            \"storageType\": \"STATIC\"\n",
      "        },\n",
      "        {\n",
      "            \"arn\": \"arn:aws:omics:us-east-1:664418964547:run/4161453\",\n",
      "            \"id\": \"4161453\",\n",
      "            \"status\": \"COMPLETED\",\n",
      "            \"workflowId\": \"9701407\",\n",
      "            \"name\": \"somatic-demo\",\n",
      "            \"priority\": 100,\n",
      "            \"storageCapacity\": 1200,\n",
      "            \"creationTime\": \"2024-09-27T12:37:11.11630Z\",\n",
      "            \"startTime\": \"2024-09-27T12:46:26.66300Z\",\n",
      "            \"stopTime\": \"2024-09-27T13:46:27.83386Z\",\n",
      "            \"storageType\": \"STATIC\"\n",
      "        }\n",
      "    ]\n",
      "}\n"
     ]
    }
   ],
   "source": [
    "!aws omics list-runs"
   ]
  },
  {
   "cell_type": "code",
   "execution_count": null,
   "id": "92f93f3b-d48e-4e9e-b5c9-5d0474e86343",
   "metadata": {},
   "outputs": [],
   "source": [
    "#The import can take up to 5 minutes to complete. We can wait for it to complete using a waiter.\n",
    "print(f\"waiting for job {ref_import_job['id']} to complete\")\n",
    "try:\n",
    "    # Find Runs Waiter\n",
    "    waiter = omics.get_waiter('reference_import_job_completed')\n",
    "    waiter.wait(referenceStoreId=ref_import_job['referenceStoreId'], id=ref_import_job['id'])\n",
    "\n",
    "    print(f\"job {ref_import_job['id']} complete\")\n",
    "except botocore.exceptions.WaiterError as e:\n",
    "    print(f\"job {ref_import_job['id']} FAILED:\")\n",
    "    print(e)"
   ]
  }
 ],
 "metadata": {
  "kernelspec": {
   "display_name": "conda_python3",
   "language": "python",
   "name": "conda_python3"
  },
  "language_info": {
   "codemirror_mode": {
    "name": "ipython",
    "version": 3
   },
   "file_extension": ".py",
   "mimetype": "text/x-python",
   "name": "python",
   "nbconvert_exporter": "python",
   "pygments_lexer": "ipython3",
   "version": "3.10.14"
  }
 },
 "nbformat": 4,
 "nbformat_minor": 5
}
