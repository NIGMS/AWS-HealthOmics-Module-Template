{
 "cells": [
  {
   "cell_type": "markdown",
   "id": "f664edc4-5a8f-46cd-9044-a006075b8fab",
   "metadata": {},
   "source": [
    "# Using HealthOmics Workflow & Runs\n",
    "### This is the second notebook (2 of 2) in the workshop series and should be run AFTER the ECR setup notebook. The goal of this notebook is to get you acquainted with building HealthOmics private workflows and runs.\n",
    "\n",
    "____________________________________________________________________________\n",
    "#### If you complete this notebook you will have:\n",
    "+ Created a HealthOmics Workflow\n",
    "+ Created a HealthOmics run group\n",
    "+ Run the methylseq workflow\n",
    "\n",
    "\n",
    "## Prerequisites\n",
    "#### Python requirements\n",
    "+ Python >= 3.8\n",
    "#### Packages:\n",
    "+ boto3 >= 1.26.19\n",
    "+ botocore >= 1.29.19\n",
    "#### AWS requirements\n",
    "+ AWS CLI\n",
    "+ You will need the AWS CLI installed and configured in your environment. Supported AWS CLI versions are:\n",
    "    - AWS CLI v2 >= 2.9.3 (Recommended)\n",
    "    - AWS CLI v1 >= 1.27.19\n",
    "    - AWS Region\n",
    "\n",
    "<div class=\"alert alert-block alert-info\">\n",
    "<b>NOTE:</b> AWS HealthOmics only allows importing data within the same region. AWS HealthOmics is currently available in Oregon (us-west-2), N. Virginia (us-east-1), Dublin (eu-west-1), London (eu-west-2), Frankfurt (eu-central-1), and Singapore (ap-southeast-1).</div>"
   ]
  },
  {
   "cell_type": "markdown",
   "id": "1da50683-eaf8-4187-90b9-c99f5e02cb44",
   "metadata": {},
   "source": [
    "## Getting Started\n",
    "### Step 1. Import libraries"
   ]
  },
  {
   "cell_type": "code",
   "execution_count": null,
   "id": "8068eb6f-26a5-4c34-9164-39134f01abd1",
   "metadata": {
    "tags": []
   },
   "outputs": [],
   "source": [
    "#Import necessary libraries and python SDK\n",
    "from datetime import datetime\n",
    "import json\n",
    "import os\n",
    "import time\n",
    "\n",
    "import boto3\n",
    "import botocore.exceptions"
   ]
  },
  {
   "cell_type": "code",
   "execution_count": null,
   "id": "af8feb7f-7444-4969-81c6-9dd5168b4089",
   "metadata": {
    "tags": []
   },
   "outputs": [],
   "source": [
    "bucket_name = \"nigms-scrnaseq-bucket-demo\"\n",
    "bucket_name_out = bucket_name+\"-out\"\n",
    "account_id = boto3.client('sts').get_caller_identity().get('Account')\n",
    "region = boto3.session.Session().region_name\n",
    "workflow_name = 'scrnaseq-workflow-test-john'\n",
    "# We will use this as the base name for our role and policy\n",
    "omics_iam_name = 'SageMaker_HealthOmics'"
   ]
  },
  {
   "cell_type": "markdown",
   "id": "976db223-e08e-45b1-af0d-df74129cb147",
   "metadata": {
    "tags": []
   },
   "source": [
    "### Step 2. Create Input and Output S3 Bucket\n",
    "HealthOmics run inputs and outputs must be stored to a S3 bucket."
   ]
  },
  {
   "cell_type": "code",
   "execution_count": null,
   "id": "ec34d8a6-7f3c-4d19-ba12-3ec8d61bb74b",
   "metadata": {
    "tags": []
   },
   "outputs": [],
   "source": [
    "!aws s3 mb s3://$bucket_name"
   ]
  },
  {
   "cell_type": "markdown",
   "id": "030723d8-7af6-408d-b1ad-8dc9f07d9fd6",
   "metadata": {
    "tags": []
   },
   "source": [
    "### Step 3. Stage and package Workflow into .zip Folder"
   ]
  },
  {
   "cell_type": "markdown",
   "id": "d07f2f57-ebbb-47ec-ba6e-9f9dd9ce2915",
   "metadata": {
    "tags": []
   },
   "source": [
    "Clone base repos"
   ]
  },
  {
   "cell_type": "code",
   "execution_count": null,
   "id": "06900a88-c5d8-4b96-9fe7-d31065c8927b",
   "metadata": {
    "tags": []
   },
   "outputs": [],
   "source": [
    "!git clone https://github.com/nf-core/scrnaseq --branch 2.3.0 --single-branch"
   ]
  },
  {
   "cell_type": "code",
   "execution_count": null,
   "id": "940d07b6-0e37-440e-b671-041f16975d13",
   "metadata": {
    "tags": []
   },
   "outputs": [],
   "source": [
    "!git clone https://github.com/aws-samples/amazon-omics-tutorials.git"
   ]
  },
  {
   "cell_type": "markdown",
   "id": "bd67a77f-eff8-4bc9-a188-175a86ae8c09",
   "metadata": {
    "tags": []
   },
   "source": [
    "Copy namespace file"
   ]
  },
  {
   "cell_type": "code",
   "execution_count": null,
   "id": "ff96a4a1-ad4d-4e35-a7dc-5aaa6f28110a",
   "metadata": {
    "tags": []
   },
   "outputs": [],
   "source": [
    "!cp ./omx-ecr-helper/lib/lambda/parse-image-uri/public_registry_properties.json scrnaseq/namespace.config"
   ]
  },
  {
   "cell_type": "markdown",
   "id": "1081e3d1-dd59-4100-805c-c5342f100b73",
   "metadata": {
    "tags": []
   },
   "source": [
    "## Generate omics.config"
   ]
  },
  {
   "cell_type": "code",
   "execution_count": null,
   "id": "3000c307-62ea-4d53-8f46-8fd22ca09edf",
   "metadata": {
    "tags": []
   },
   "outputs": [],
   "source": [
    "#generate manifest and omics.config files\n",
    "!python3 amazon-omics-tutorials/utils/scripts/inspect_nf.py \\\n",
    "--output-manifest-file scrnaseq/scrnaseq_230_docker_image_manifest.json \\\n",
    "-n scrnaseq/namespace.config \\\n",
    "--output-config-file scrnaseq/conf/omics.config \\\n",
    "--region $region \\\n",
    "scrnaseq/"
   ]
  },
  {
   "cell_type": "code",
   "execution_count": null,
   "id": "3e314c70-5ce7-4b6a-a970-665300e459f8",
   "metadata": {
    "tags": []
   },
   "outputs": [],
   "source": [
    "#pull containers from manifest file generated in last step into ECR\n",
    "!aws stepfunctions start-execution\\\n",
    "    --state-machine-arn arn:aws:states:$region:$account_id:stateMachine:omx-container-puller\\\n",
    "    --input file://scrnaseq/scrnaseq_230_docker_image_manifest.json"
   ]
  },
  {
   "cell_type": "code",
   "execution_count": null,
   "id": "6ae921d2-3414-400f-9923-73ba88326171",
   "metadata": {
    "tags": []
   },
   "outputs": [],
   "source": [
    "#write omics.config statement to bottom of file\n",
    "!echo \"includeConfig 'conf/omics.config'\" >> scrnaseq/nextflow.config "
   ]
  },
  {
   "cell_type": "markdown",
   "id": "02fe51b0-d08b-416c-a193-ddabb568edf6",
   "metadata": {
    "tags": []
   },
   "source": [
    "### Step 4. Create parameter-description.json file\n",
    "Run the code cell below to write the following *.json* formatted content to a *parameter-description.json* file.\n",
    "\n",
    "```json\n",
    "{\n",
    "    \"input\": {\"description\": \"Samplesheet with sample locations.\",\n",
    "                \"optional\": false},\n",
    "    \"protocol\" : {\"description\": \"10X Protocol used: 10XV1, 10XV2, 10XV3\",\n",
    "                \"optional\": false},\n",
    "    \"aligner\": {\"description\": \"choice of aligner: alevin, star, kallisto\",\n",
    "            \"optional\": false},\n",
    "    \"whitelist\": {\"description\": \"Optional whitelist if 10X protocol is not used.\",\n",
    "            \"optional\": true},\n",
    "    \"gtf\": {\"description\": \"S3 path to GTF file\",\n",
    "            \"optional\": false},\n",
    "    \"fasta\": {\"description\": \"S3 path to FASTA file\",\n",
    "            \"optional\": false}\n",
    "}\n",
    "```"
   ]
  },
  {
   "cell_type": "code",
   "execution_count": null,
   "id": "405616bd-8dba-4305-bb07-0d9b7274aa90",
   "metadata": {
    "tags": []
   },
   "outputs": [],
   "source": [
    "with open('parameter-description.json',\"w\") as f:\n",
    "    f.write(json.dumps({\n",
    "        \"input\": {\"description\": \"Samplesheet with sample locations.\",\n",
    "                    \"optional\": False},\n",
    "        \"protocol\" : {\"description\": \"10X Protocol used: 10XV1, 10XV2, 10XV3\",\n",
    "                    \"optional\": False},\n",
    "        \"aligner\": {\"description\": \"choice of aligner: alevin, star, kallisto\",\n",
    "                \"optional\": False},\n",
    "        \"whitelist\": {\"description\": \"Optional whitelist if 10X protocol is not used.\",\n",
    "                \"optional\": True},\n",
    "        \"gtf\": {\"description\": \"S3 path to GTF file\",\n",
    "                \"optional\": False},\n",
    "        \"fasta\": {\"description\": \"S3 path to FASTA file\",\n",
    "                \"optional\": False}\n",
    "    }))"
   ]
  },
  {
   "cell_type": "markdown",
   "id": "c15ee155-80cd-4daf-980a-ac091e4f2ee1",
   "metadata": {
    "tags": []
   },
   "source": [
    "### Step 5. Stage the Workflow\n",
    "Zip the contents of the workflow directory and copy it to an S3 bucket. If the zipped folder is >4Mb than it is required to move it to an S3 bucket."
   ]
  },
  {
   "cell_type": "code",
   "execution_count": null,
   "id": "266be9ee-c7c0-4f38-a01b-3d4f1222c455",
   "metadata": {
    "tags": []
   },
   "outputs": [],
   "source": [
    "!zip -r scrnaseq-workflow.zip scrnaseq"
   ]
  },
  {
   "cell_type": "code",
   "execution_count": null,
   "id": "aaa0cdfc-fd4c-4005-90e8-6e49db2b1811",
   "metadata": {
    "tags": []
   },
   "outputs": [],
   "source": [
    "!aws s3 cp scrnaseq-workflow.zip s3://$bucket_name/demo_workflow/scrnaseq-workflow.zip"
   ]
  },
  {
   "cell_type": "markdown",
   "id": "99abe78a-f6f0-4e4b-a74d-d73db9a50d01",
   "metadata": {},
   "source": [
    "### Step 6. Create Workflow using zipped workflow and parameters-description.json\n"
   ]
  },
  {
   "cell_type": "code",
   "execution_count": null,
   "id": "d036f0af-f6ea-4a57-9677-5511921ccb8a",
   "metadata": {
    "tags": []
   },
   "outputs": [],
   "source": [
    "!aws omics create-workflow \\\n",
    "    --name $workflow_name \\\n",
    "    --definition-uri s3://$bucket_name/demo_workflow/scrnaseq-workflow.zip \\\n",
    "    --parameter-template file://parameter-description.json  \\\n",
    "    --engine NEXTFLOW"
   ]
  },
  {
   "cell_type": "code",
   "execution_count": null,
   "id": "80fb685a-a7f6-43ce-b5cd-6695dcb5b6c1",
   "metadata": {
    "tags": []
   },
   "outputs": [],
   "source": [
    "#see workflow and make sure status is Active\n",
    "!aws omics list-workflows --name $workflow_name"
   ]
  },
  {
   "cell_type": "markdown",
   "id": "83009ab3-668a-4415-9cc5-8a8cf1e88f5a",
   "metadata": {},
   "source": [
    "Retrieve Workflow ID and create workflow_name variable to be passed to start_run command"
   ]
  },
  {
   "cell_type": "code",
   "execution_count": null,
   "id": "fe488574-2bab-478a-bea4-6da804887481",
   "metadata": {
    "tags": []
   },
   "outputs": [],
   "source": [
    "client = boto3.client('omics')\n",
    "workflow_id = client.list_workflows(\n",
    "    type='PRIVATE',\n",
    "    name=workflow_name,\n",
    ")['items'][0]['id']"
   ]
  },
  {
   "cell_type": "markdown",
   "id": "240752ab-79eb-4889-a698-8a1c6c449470",
   "metadata": {
    "tags": []
   },
   "source": [
    "### Step 7. Setup Inputs\n",
    "Write *input.json* file that specifies input parameter values. Here were are retrieving inputs from public S3 buckets, however, inputs can also be passed in from your own S3 buckets or reference and genome stores that you have setup on the account. In each case just provide the appropriate uri for the given input."
   ]
  },
  {
   "cell_type": "code",
   "execution_count": null,
   "id": "63a57b0c-c685-41e3-80db-16b59d39b439",
   "metadata": {
    "tags": []
   },
   "outputs": [],
   "source": [
    "with open('input.json',\"w\") as f:\n",
    "    f.write(json.dumps({\n",
    "        \"input\": \"s3://aws-genomics-static-us-east-1/workflow_migration_workshop/nfcore-scrnaseq-v2.3.0/samplesheet-2-0.csv\",\n",
    "        \"protocol\": \"10XV2\",\n",
    "        \"aligner\": \"star\",\n",
    "        \"fasta\": \"s3://aws-genomics-static-us-east-1/workflow_migration_workshop/nfcore-scrnaseq-v2.3.0/GRCm38.p6.genome.chr19.fa\",\n",
    "        \"gtf\": \"s3://aws-genomics-static-us-east-1/workflow_migration_workshop/nfcore-scrnaseq-v2.3.0/gencode.vM19.annotation.chr19.gtf\"\n",
    "}))"
   ]
  },
  {
   "cell_type": "markdown",
   "id": "142fcd5e-b123-43de-b4a1-e474177d3030",
   "metadata": {
    "tags": []
   },
   "source": [
    "### Step 8. Setup new role\n",
    "For the purposes of this demo, we will use the following policy and trust policy that restricts usage to only the required S3 buckets. You will need to customize permissions as required."
   ]
  },
  {
   "cell_type": "code",
   "execution_count": null,
   "id": "be9e0ff0-8ab7-41e0-9cd1-41cf226e6d23",
   "metadata": {
    "tags": []
   },
   "outputs": [],
   "source": [
    "# Define demo policies\n",
    "omics_demo_policy = {\n",
    "    \"Version\": \"2012-10-17\",\n",
    "    \"Statement\": [\n",
    "        {\n",
    "            \"Effect\": \"Allow\",\n",
    "            \"Action\": [\n",
    "                \"s3:GetObject\"\n",
    "            ],\n",
    "            \"Resource\": [\n",
    "                \"arn:aws:s3:::\"+bucket_name+\"/*\",\n",
    "                \"arn:aws:s3:::\"+bucket_name_out+\"/*\",\n",
    "                \"arn:aws:s3:::aws-genomics-static-us-east-1/workflow_migration_workshop/nfcore-scrnaseq-v2.3.0/*\"\n",
    "            ]\n",
    "        },\n",
    "        {\n",
    "            \"Effect\": \"Allow\",\n",
    "            \"Action\": [\n",
    "                \"s3:ListBucket\"\n",
    "            ],\n",
    "            \"Resource\": [\n",
    "                \"arn:aws:s3:::\"+bucket_name,\n",
    "                \"arn:aws:s3:::\"+bucket_name_out+\"/*\",\n",
    "                \"arn:aws:s3:::aws-genomics-static-us-east-1/workflow_migration_workshop/nfcore-scrnaseq-v2.3.0\"\n",
    "            ]\n",
    "        },\n",
    "        {\n",
    "            \"Effect\": \"Allow\",\n",
    "            \"Action\": [\n",
    "                \"s3:PutObject\"\n",
    "            ],\n",
    "            \"Resource\": [\n",
    "                \"arn:aws:s3:::\"+bucket_name+\"/*\",\n",
    "                \"arn:aws:s3:::\"+bucket_name_out+\"/*\",\n",
    "            ]\n",
    "        },\n",
    "        {\n",
    "            \"Effect\": \"Allow\",\n",
    "            \"Action\": [\n",
    "                \"logs:DescribeLogStreams\",\n",
    "                \"logs:CreateLogStream\",\n",
    "                \"logs:PutLogEvents\"\n",
    "            ],\n",
    "            \"Resource\": [\n",
    "                \"arn:aws:logs:\"+region+\":\"+account_id+\":log-group:/aws/omics/WorkflowLog:log-stream:*\"\n",
    "            ]\n",
    "        },\n",
    "        {\n",
    "            \"Effect\": \"Allow\",\n",
    "            \"Action\": [\n",
    "                \"logs:CreateLogGroup\"\n",
    "            ],\n",
    "            \"Resource\": [\n",
    "                \"arn:aws:logs:\"+region+\":\"+account_id+\":log-group:/aws/omics/WorkflowLog:*\"\n",
    "            ]\n",
    "        },\n",
    "        {\n",
    "            \"Effect\": \"Allow\",\n",
    "            \"Action\": [\n",
    "                \"ecr:BatchGetImage\",\n",
    "                \"ecr:GetDownloadUrlForLayer\",\n",
    "                \"ecr:BatchCheckLayerAvailability\"\n",
    "            ],\n",
    "            \"Resource\": [\n",
    "                \"arn:aws:ecr:\"+region+\":\"+account_id+\":repository/*\"\n",
    "            ]\n",
    "        }\n",
    "    ]\n",
    "}\n",
    "\n",
    "scrnaseq_workflow_demo_trust_policy = {\n",
    "    \"Version\": \"2012-10-17\",\n",
    "    \"Statement\": [\n",
    "        {\n",
    "            \"Effect\": \"Allow\",\n",
    "            \"Principal\": {\n",
    "                \"Service\": \"omics.amazonaws.com\"\n",
    "            },\n",
    "            \"Action\": \"sts:AssumeRole\",\n",
    "            \"Condition\": {\n",
    "                \"StringEquals\": {\n",
    "                    \"aws:SourceAccount\": account_id\n",
    "                },\n",
    "                \"ArnLike\": {\n",
    "                    \"aws:SourceArn\": \"arn:aws:omics:\"+region+\":\"+account_id+\":run/*\"\n",
    "                }\n",
    "            }\n",
    "        }\n",
    "    ]\n",
    "}"
   ]
  },
  {
   "cell_type": "code",
   "execution_count": null,
   "id": "86ab3be3-5724-4f05-8e6b-80528cca2b9a",
   "metadata": {
    "tags": []
   },
   "outputs": [],
   "source": [
    "# Create the iam client\n",
    "iam = boto3.resource('iam')\n",
    "\n",
    "# Check if the role already exists; if not, create it\n",
    "try:\n",
    "    role = iam.Role(omics_iam_name)\n",
    "    role.load()\n",
    "    \n",
    "except botocore.exceptions.ClientError as ex:\n",
    "    if ex.response[\"Error\"][\"Code\"] == \"NoSuchEntity\":\n",
    "        #Create the role with the corresponding trust policy\n",
    "        role = iam.create_role(\n",
    "            RoleName=omics_iam_name, \n",
    "            AssumeRolePolicyDocument=json.dumps(scrnaseq_workflow_demo_trust_policy))\n",
    "        \n",
    "        #Create policy\n",
    "        policy = iam.create_policy(\n",
    "            PolicyName='{}-policy'.format(omics_iam_name), \n",
    "            Description=\"Policy for AWS HealthOmics demo\",\n",
    "            PolicyDocument=json.dumps(omics_demo_policy))\n",
    "        \n",
    "        #Attach the policy to the role\n",
    "        policy.attach_role(RoleName=omics_iam_name)\n",
    "    else:\n",
    "        print('Something went wrong, please retry and check your account settings and permissions')"
   ]
  },
  {
   "cell_type": "code",
   "execution_count": null,
   "id": "f915b6a3-a6f5-43ee-8e05-51fd9117ff00",
   "metadata": {
    "tags": []
   },
   "outputs": [],
   "source": [
    "#Retrieve the role arn, which grants AWS HealthOmics the proper permissions to access the resources it needs in your AWS account.\n",
    "def get_role_arn(role_name):\n",
    "    try:\n",
    "        iam = boto3.resource('iam')\n",
    "        role = iam.Role(role_name)\n",
    "        role.load()  # calls GetRole to load attributes\n",
    "    except botocore.exceptions.ClientError:\n",
    "        print(\"Couldn't get role named %s.\"%role_name)\n",
    "        raise\n",
    "    else:\n",
    "        print(role.arn)\n",
    "        return role.arn"
   ]
  },
  {
   "cell_type": "code",
   "execution_count": null,
   "id": "fda382e4-3b8a-45b5-a35d-af935581f90a",
   "metadata": {
    "tags": []
   },
   "outputs": [],
   "source": [
    "#Print role name and role arn to be used in store creation and upload\n",
    "role_arn = get_role_arn(omics_iam_name)"
   ]
  },
  {
   "cell_type": "markdown",
   "id": "2c8da4a9-dc7c-4338-8eb7-5139996014bc",
   "metadata": {
    "tags": []
   },
   "source": [
    "### Step 9. Start the run"
   ]
  },
  {
   "cell_type": "code",
   "execution_count": null,
   "id": "d3d273ff-ca08-40d8-945d-b8d4f8007baf",
   "metadata": {
    "tags": []
   },
   "outputs": [],
   "source": [
    "!aws omics start-run \\\n",
    "  --name scrnaseq_john_workshop_test_run_1 \\\n",
    "  --role-arn $role_arn \\\n",
    "  --workflow-id $workflow_id \\\n",
    "  --parameters file://input.json \\\n",
    "  --output-uri s3://$bucket_name_out"
   ]
  },
  {
   "cell_type": "code",
   "execution_count": null,
   "id": "5c621122-7391-453b-a65d-f646f721133d",
   "metadata": {
    "tags": []
   },
   "outputs": [],
   "source": [
    "#list your omics runs, you can also navigate to the HealthOmics consolde to view active workflows, runs, and access logs.\n",
    "!aws omics list-runs"
   ]
  },
  {
   "cell_type": "markdown",
   "id": "17b2324a-72fa-4462-9a90-968006c51bb7",
   "metadata": {},
   "source": [
    "### Step 10. Clean Up\n",
    "Once the demo is completed you should delete resources setup during the exercise. This will prevent unnecessary costs.\n",
    "\n",
    "#### The following resources should be deleted/terminated form the console:\n",
    "+ Reference and Sequence stores\n",
    "+ S3 Buckets\n",
    "+ Images in ECR\n",
    "+ CloudFormation stack\n",
    "+ You may also want to delete any workflows and runs that your created in HealthOmics.\n",
    "\n",
    "Additional information can be found [here](https://catalog.us-east-1.prod.workshops.aws/workshops/76d4a4ff-fe6f-436a-a1c2-f7ce44bc5d17/en-US/workshop/clean-up)."
   ]
  }
 ],
 "metadata": {
  "kernelspec": {
   "display_name": "conda_python3",
   "language": "python",
   "name": "conda_python3"
  },
  "language_info": {
   "codemirror_mode": {
    "name": "ipython",
    "version": 3
   },
   "file_extension": ".py",
   "mimetype": "text/x-python",
   "name": "python",
   "nbconvert_exporter": "python",
   "pygments_lexer": "ipython3",
   "version": "3.10.14"
  }
 },
 "nbformat": 4,
 "nbformat_minor": 5
}
