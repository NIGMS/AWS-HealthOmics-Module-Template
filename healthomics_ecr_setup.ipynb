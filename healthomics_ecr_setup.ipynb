{
 "cells": [
  {
   "cell_type": "markdown",
   "id": "523d5a3d-3931-4a6d-9ae7-a7e97d247396",
   "metadata": {},
   "source": [
    "# HealthOmics ECR Setup\n",
    "### This is the first notebook (1 of 2) in the workshop series and should be run before the storage setup and workflow notebooks. \n",
    "The goal of this guide is to help individuals who want to setup a brand new AWS account for AWS HealthOmics. <br>\n",
    "\n",
    "____________________________________________________________\n",
    "#### Resources\n",
    "- The materials presented in the three notebooks for this demo largely follow the contents contained with this [AWS Workshop](https://catalog.us-east-1.prod.workshops.aws/workshops/76d4a4ff-fe6f-436a-a1c2-f7ce44bc5d17/en-US/workshop). <br>\n",
    "- Additional materials on AWS HealthOmics can be found [here](https://docs.aws.amazon.com/omics/latest/dev/what-is-healthomics.html). These materials also touch on Annotation Stores, which are not covered in this demo. <br>\n",
    "- A list of HealthOmics CLI actions can be found [here](https://docs.amazonaws.cn/en_us/cli/latest/userguide/cli_omics_code_examples.html#:~:text=The%20following%20code%20examples%20show%20you%20how%20to%20perform%20actions). Under the *start-run* action you can find an example of running a workflow using the Omics storage services.\n",
    "- Omics boto3 methods can be found [here](https://boto3.amazonaws.com/v1/documentation/api/latest/reference/services/omics.html).\n",
    "\n",
    "#### Prerequisites \n",
    "+ AWS Account \n",
    "+ Resource role with at least relevant Sagemaker and IAM access\n",
    "\n",
    "#### Requirements: \n",
    "+ AWS CDK \n",
    "+ AWS CLI \n",
    "\n",
    "#### Getting Started\n",
    "##### Open Terminal and run following command to install CDK\n",
    "<p style=\"background:black\">\n",
    "<code style=\"background:black;color:white\">npm install -g aws-cdk\n",
    "</code>\n",
    "</p>\n",
    "\n",
    "##### Import relevant libraries"
   ]
  },
  {
   "cell_type": "code",
   "execution_count": null,
   "id": "fc37b6f4-8c0e-49a5-bd3c-301a19cfff7c",
   "metadata": {
    "tags": []
   },
   "outputs": [],
   "source": [
    "import json\n",
    "from datetime import datetime\n",
    "import os\n",
    "from time import sleep\n",
    "from urllib.parse import urlparse\n",
    "from zipfile import ZipFile, ZIP_DEFLATED\n",
    "\n",
    "import boto3\n",
    "import botocore.exceptions"
   ]
  },
  {
   "cell_type": "markdown",
   "id": "9e18a04d-512c-4ddd-aefb-929746877386",
   "metadata": {},
   "source": [
    "## Step 1: Setup S3 bucket \n",
    "HealthOmics will requires an S3 bucket to store the run logs and output files. <br>\n",
    "You can create an S3 bucket through AWS console **or** run the following terminal command:"
   ]
  },
  {
   "cell_type": "code",
   "execution_count": null,
   "id": "5ac76336-d3ed-4e10-9f73-41df7c5ffbb4",
   "metadata": {
    "tags": []
   },
   "outputs": [],
   "source": [
    "bucket_name = \"nigms-scrnaseq-bucket-demo\"\n",
    "!aws s3 mb s3://$bucket_name"
   ]
  },
  {
   "cell_type": "code",
   "execution_count": null,
   "id": "8d13a2d7-2a13-46f8-acd3-a785ea54941b",
   "metadata": {
    "tags": []
   },
   "outputs": [],
   "source": [
    "account_id = boto3.client('sts').get_caller_identity().get('Account')\n",
    "account_id"
   ]
  },
  {
   "cell_type": "markdown",
   "id": "f7d4db47-570d-4a6b-a645-630df598bfc7",
   "metadata": {},
   "source": [
    "## Step 2: Create HealthOmics Policy and attach to default SageMaker Role\n",
    "When creating your notebook instance make sure to attach IAM policies that enable the creation of new IAM roles. Failing to attach the correct IAM-based policies may result in error when creating and attaching new roles or policies."
   ]
  },
  {
   "cell_type": "code",
   "execution_count": null,
   "id": "0d1e2bdf-7c33-4cca-9a25-0a4e26ebf03f",
   "metadata": {
    "tags": []
   },
   "outputs": [],
   "source": [
    "# Define demo policies\n",
    "omics_demo_policy = {\n",
    "    \"Version\": \"2012-10-17\",\n",
    "    \"Statement\": [\n",
    "        {\n",
    "            \"Effect\": \"Allow\",\n",
    "            \"Action\": [\n",
    "                \"s3:GetObject\"\n",
    "            ],\n",
    "            \"Resource\": [\n",
    "                \"arn:aws:s3:::\"+bucket_name+\"/*\",\n",
    "                \"arn:aws:s3:::aws-genomics-static-us-east-1/workflow_migration_workshop/nfcore-scrnaseq-v2.3.0/*\"\n",
    "            ]\n",
    "        },\n",
    "        {\n",
    "            \"Effect\": \"Allow\",\n",
    "            \"Action\": [\n",
    "                \"s3:ListBucket\"\n",
    "            ],\n",
    "            \"Resource\": [\n",
    "                \"arn:aws:s3::::\"+bucket_name,\n",
    "                \"arn:aws:s3:::aws-genomics-static-us-east-1/workflow_migration_workshop/nfcore-scrnaseq-v2.3.0\"\n",
    "            ]\n",
    "        },\n",
    "        {\n",
    "            \"Effect\": \"Allow\",\n",
    "            \"Action\": [\n",
    "                \"s3:PutObject\"\n",
    "            ],\n",
    "            \"Resource\": [\n",
    "                \"arn:aws:s3:::\"+bucket_name+\"/*\",\n",
    "            ]\n",
    "        },\n",
    "        {\n",
    "            \"Effect\": \"Allow\",\n",
    "            \"Action\": [\n",
    "                \"logs:DescribeLogStreams\",\n",
    "                \"logs:CreateLogStream\",\n",
    "                \"logs:PutLogEvents\"\n",
    "            ],\n",
    "            \"Resource\": [\n",
    "                \"arn:aws:logs:\"+region+\":\"+account_id+\":log-group:/aws/omics/WorkflowLog:log-stream:*\"\n",
    "            ]\n",
    "        },\n",
    "        {\n",
    "            \"Effect\": \"Allow\",\n",
    "            \"Action\": [\n",
    "                \"logs:CreateLogGroup\"\n",
    "            ],\n",
    "            \"Resource\": [\n",
    "                \"arn:aws:logs:\"+region+\":\"+account_id+\":log-group:/aws/omics/WorkflowLog:*\"\n",
    "            ]\n",
    "        },\n",
    "        {\n",
    "            \"Effect\": \"Allow\",\n",
    "            \"Action\": [\n",
    "                \"ecr:BatchGetImage\",\n",
    "                \"ecr:GetDownloadUrlForLayer\",\n",
    "                \"ecr:BatchCheckLayerAvailability\"\n",
    "            ],\n",
    "            \"Resource\": [\n",
    "                \"arn:aws:ecr:\"+region+\":\"+account_id+\":repository/*\"\n",
    "            ]\n",
    "        }\n",
    "    ]\n",
    "}\n",
    "\n",
    "omics_demo_trust_policy = {\n",
    "    \"Version\": \"2012-10-17\",\n",
    "    \"Statement\": [\n",
    "        {\n",
    "            \"Effect\": \"Allow\",\n",
    "            \"Principal\": {\n",
    "                \"Service\": \"omics.amazonaws.com\"\n",
    "            },\n",
    "            \"Action\": \"sts:AssumeRole\",\n",
    "            \"Condition\": {\n",
    "                \"StringEquals\": {\n",
    "                    \"aws:SourceAccount\": account_id\n",
    "                },\n",
    "                \"ArnLike\": {\n",
    "                    \"aws:SourceArn\": \"arn:aws:omics:\"+region+\":\"+account_id+\":run/*\"\n",
    "                }\n",
    "            }\n",
    "        }\n",
    "    ]\n",
    "}"
   ]
  },
  {
   "cell_type": "markdown",
   "id": "53f08c81-967f-4d51-bef6-1bcc1e0352b6",
   "metadata": {},
   "source": [
    "### Attach new policy to default role that was established when instance was created"
   ]
  },
  {
   "cell_type": "code",
   "execution_count": null,
   "id": "4a3f8f1b-dffe-4472-b7c7-4b903695541a",
   "metadata": {
    "tags": []
   },
   "outputs": [],
   "source": [
    "# We will use this as the base name for our role and policy\n",
    "omics_iam_name = <Role Name> #REPLACE\n",
    "\n",
    "# Create the iam client\n",
    "iam = boto3.resource('iam')\n",
    "\n",
    "# Check if the role already exists; if not, create it\n",
    "\n",
    "role = iam.Role(omics_iam_name)\n",
    "try:\n",
    "    role.load()\n",
    "except iam.meta.client.exceptions.NoSuchEntityException:\n",
    "    create_role_response = iam.create_role(\n",
    "        RoleName = omics_iam_name,\n",
    "        AssumeRolePolicyDocument = json.dumps(omics_demo_trust_policy)\n",
    "    )\n",
    "    role.load()\n",
    "policy = iam.Policy('arn:aws:iam::'+account_id+':policy/{}-policy'.format(omics_iam_name))\n",
    "\n",
    "try:\n",
    "    policy.load()\n",
    "except iam.meta.client.exceptions.NoSuchEntityException:\n",
    "    #Create policy\n",
    "    policy = iam.create_policy(\n",
    "        PolicyName='{}-policy'.format(omics_iam_name),\n",
    "        Description=\"Policy for AWS HealthOmics demo\",\n",
    "        PolicyDocument=json.dumps(omics_demo_policy)\n",
    "    )\n",
    "    policy.load()\n",
    "\n",
    "#Attach the policy to the role\n",
    "policy.attach_role(RoleName=omics_iam_name)\n",
    "print(f'New policy for {omics_iam_name} successfully attached')"
   ]
  },
  {
   "cell_type": "markdown",
   "id": "9f10ebc4-e616-499e-8e86-41b1515e8bb2",
   "metadata": {},
   "source": [
    "<div class=\"alert alert-block alert-info\">\n",
    "<b>NOTE:</b> Replace [Role Name] name of attached role when you created the notebook instance.</div>"
   ]
  },
  {
   "cell_type": "markdown",
   "id": "7c773257-2824-4633-9fc4-7ad629a60204",
   "metadata": {},
   "source": [
    "## Step 3: Setup ECR for HealthOmics\n",
    "In this section we will go through the everything required to convert pre-existing nextflow script into HealthOmics workflow. Containers used by workflow will have to be fetched from ECR. If the AWS account already has ECR repository with necessary container image(s) then can skip this part."
   ]
  },
  {
   "cell_type": "markdown",
   "id": "53f1f48e-ae54-4fc3-bfae-9e251db6cf4f",
   "metadata": {},
   "source": [
    "#### Clone omx-ecr-helper Github repository"
   ]
  },
  {
   "cell_type": "code",
   "execution_count": null,
   "id": "59494216-6456-41d4-822f-00d8fd53ebeb",
   "metadata": {
    "tags": []
   },
   "outputs": [],
   "source": [
    "#Make sure you're within the Sagemaker directory and list \n",
    "!pwd\n",
    "!ls"
   ]
  },
  {
   "cell_type": "code",
   "execution_count": null,
   "id": "7cc269b4-63d6-4124-aa54-d74dcfd6cf4d",
   "metadata": {
    "tags": []
   },
   "outputs": [],
   "source": [
    "#clone the omx-ecr-helper github repository into current directory\n",
    "!git clone https://github.com/CBIIT/omx-ecr-helper"
   ]
  },
  {
   "cell_type": "code",
   "execution_count": null,
   "id": "a7a01f82-eea8-4380-9b28-3147dec5b649",
   "metadata": {
    "tags": []
   },
   "outputs": [],
   "source": [
    "#You should now see the 'omx-ecr-helper' folder within the directory when running ls command\n",
    "!ls"
   ]
  },
  {
   "cell_type": "markdown",
   "id": "0cbd95d6-a402-41f2-ac64-1b8ba4007159",
   "metadata": {},
   "source": [
    "#### Now open terminal and run following commands to install CDK\n",
    "##### Bootstrap CDK\n",
    "<p style=\"background:black\">\n",
    "<code style=\"background:black;color:white\">cdk bootstrap aws://[AWS-ACCOUNT-NUMBER]/[AWS-REGION]\n",
    "</code>\n",
    "</p>\n",
    "\n",
    "<div class=\"alert alert-block alert-info\">\n",
    "<b>NOTE:</b> Replace [AWS-ACCOUNT-NUMBER] and [AWS-REGION] with appropriate values.</div>\n",
    "\n",
    "##### Change your working dir to the repo: \n",
    "<p style=\"background:black\">\n",
    "<code style=\"background:black;color:white\">cd omx-ecr-helper\n",
    "</code>\n",
    "</p>\n",
    "\n",
    "##### Install all the dependencies: \n",
    "<p style=\"background:black\">\n",
    "<code style=\"background:black;color:white\">npm install\n",
    "</code>\n",
    "</p> \n",
    "\n",
    "##### Deploy the CF stacks for ECR in your account: \n",
    "<p style=\"background:black\">\n",
    "<code style=\"background:black;color:white\">cdk deploy --all --require-approval never \n",
    "</code>\n",
    "</p>"
   ]
  },
  {
   "cell_type": "markdown",
   "id": "81573c76-8ddc-4e1e-8ee1-310e043a1579",
   "metadata": {},
   "source": [
    "### Now you should be ready to setup your data stores, create workflows, connect the workflows to your account's ECR, and start running your workflows!"
   ]
  }
 ],
 "metadata": {
  "kernelspec": {
   "display_name": "conda_python3",
   "language": "python",
   "name": "conda_python3"
  },
  "language_info": {
   "codemirror_mode": {
    "name": "ipython",
    "version": 3
   },
   "file_extension": ".py",
   "mimetype": "text/x-python",
   "name": "python",
   "nbconvert_exporter": "python",
   "pygments_lexer": "ipython3",
   "version": "3.10.14"
  }
 },
 "nbformat": 4,
 "nbformat_minor": 5
}
