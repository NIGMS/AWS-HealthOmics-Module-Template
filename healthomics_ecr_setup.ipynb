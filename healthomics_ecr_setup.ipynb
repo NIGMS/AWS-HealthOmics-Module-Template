{
 "cells": [
  {
   "cell_type": "markdown",
   "id": "523d5a3d-3931-4a6d-9ae7-a7e97d247396",
   "metadata": {},
   "source": [
    "# HealthOmics ECR Setup\n",
    "The intent of this guide is to help individuals who want to setup a brand new AWS account for AWS HealthOmics.\n",
    "\n",
    "#### Prerequisites \n",
    "+ AWS Account \n",
    "+ manifest.json file to build ECR repositories\n",
    "\n",
    "#### Requirements: \n",
    "+ AWS CDK \n",
    "+ AWS CLI \n",
    "Due to security policy, the easiest way to perform the following steps will be through the AWS Console's Cloud Shell. If you do have both CDK and AWS cli tool setup in your local environment, you can run it against the desire AWS profile as well. \n",
    "\n",
    "#### Open Terminal and run following command to install CDK\n",
    "<p style=\"background:black\">\n",
    "<code style=\"background:black;color:white\">npm install -g aws-cdk\n",
    "</code>\n",
    "</p>"
   ]
  },
  {
   "cell_type": "markdown",
   "id": "6b20a2f9-6a7a-403f-9d06-82c5e0ee34aa",
   "metadata": {},
   "source": [
    "#### Import relevant libraries"
   ]
  },
  {
   "cell_type": "code",
   "execution_count": null,
   "id": "fc37b6f4-8c0e-49a5-bd3c-301a19cfff7c",
   "metadata": {
    "tags": []
   },
   "outputs": [],
   "source": [
    "import json\n",
    "from datetime import datetime\n",
    "import os\n",
    "from time import sleep\n",
    "from urllib.parse import urlparse\n",
    "from zipfile import ZipFile, ZIP_DEFLATED\n",
    "\n",
    "import boto3\n",
    "import botocore.exceptions"
   ]
  },
  {
   "cell_type": "markdown",
   "id": "9e18a04d-512c-4ddd-aefb-929746877386",
   "metadata": {},
   "source": [
    "## Step 1: Setup S3 bucket \n",
    "HealthOmics will requires an S3 bucket to store the run logs and output files. <br>\n",
    "You can create an S3 bucket through AWS console **or** run the following terminal command:"
   ]
  },
  {
   "cell_type": "code",
   "execution_count": null,
   "id": "8cde6916-102d-4e00-bbbc-80538c82e8e7",
   "metadata": {
    "tags": []
   },
   "outputs": [],
   "source": [
    "!aws s3 mb s3://[bucket-name]"
   ]
  },
  {
   "cell_type": "code",
   "execution_count": null,
   "id": "5ac76336-d3ed-4e10-9f73-41df7c5ffbb4",
   "metadata": {
    "tags": []
   },
   "outputs": [],
   "source": [
    "bucket_name = \"nigms-scrnaseq-bucket-demo-2\""
   ]
  },
  {
   "cell_type": "code",
   "execution_count": null,
   "id": "8d13a2d7-2a13-46f8-acd3-a785ea54941b",
   "metadata": {
    "tags": []
   },
   "outputs": [],
   "source": [
    "account_id = boto3.client('sts').get_caller_identity().get('Account')"
   ]
  },
  {
   "cell_type": "code",
   "execution_count": null,
   "id": "3c144671-83df-48a1-b47f-3948e6e9aab3",
   "metadata": {
    "tags": []
   },
   "outputs": [],
   "source": [
    "region = boto3.session.Session().region_name"
   ]
  },
  {
   "cell_type": "code",
   "execution_count": null,
   "id": "a1e8ca07-b189-4908-9f29-b5fa22783de0",
   "metadata": {
    "tags": []
   },
   "outputs": [],
   "source": [
    "account_id"
   ]
  },
  {
   "cell_type": "code",
   "execution_count": null,
   "id": "31aae972-7568-4c5e-adf8-7de59f5794df",
   "metadata": {
    "tags": []
   },
   "outputs": [],
   "source": [
    "!aws s3 mb s3://$bucket_name"
   ]
  },
  {
   "cell_type": "markdown",
   "id": "9f91ab25-9025-4f0f-a0e3-5d5b5035fe73",
   "metadata": {},
   "source": [
    "<div class=\"alert alert-block alert-info\">\n",
    "<b>NOTE:</b> Replace [bucket-name] with the name of your S3 bucket.</div>"
   ]
  },
  {
   "cell_type": "markdown",
   "id": "f7d4db47-570d-4a6b-a645-630df598bfc7",
   "metadata": {},
   "source": [
    "## Step 2: Create HealthOmics Policy and attach to default SageMaker Role\n",
    "When creating your notebook instance make sure to attach IAM policies that enable the creation of new IAM roles. Failing to attach the correct IAM-based policies may result in error when creating and attaching new roles or policies."
   ]
  },
  {
   "cell_type": "code",
   "execution_count": null,
   "id": "0d1e2bdf-7c33-4cca-9a25-0a4e26ebf03f",
   "metadata": {
    "tags": []
   },
   "outputs": [],
   "source": [
    "# Define demo policies\n",
    "omics_demo_policy = {\n",
    "    \"Version\": \"2012-10-17\",\n",
    "    \"Statement\": [\n",
    "        {\n",
    "            \"Effect\": \"Allow\",\n",
    "            \"Action\": [\n",
    "                \"s3:GetObject\"\n",
    "            ],\n",
    "            \"Resource\": [\n",
    "                \"arn:aws:s3:::\"+bucket_name+\"/*\",\n",
    "                \"arn:aws:s3:::aws-genomics-static-us-east-1/workflow_migration_workshop/nfcore-scrnaseq-v2.3.0/*\"\n",
    "            ]\n",
    "        },\n",
    "        {\n",
    "            \"Effect\": \"Allow\",\n",
    "            \"Action\": [\n",
    "                \"s3:ListBucket\"\n",
    "            ],\n",
    "            \"Resource\": [\n",
    "                \"arn:aws:s3::::\"+bucket_name,\n",
    "                \"arn:aws:s3:::aws-genomics-static-us-east-1/workflow_migration_workshop/nfcore-scrnaseq-v2.3.0\"\n",
    "            ]\n",
    "        },\n",
    "        {\n",
    "            \"Effect\": \"Allow\",\n",
    "            \"Action\": [\n",
    "                \"s3:PutObject\"\n",
    "            ],\n",
    "            \"Resource\": [\n",
    "                \"arn:aws:s3:::\"+bucket_name+\"/*\",\n",
    "            ]\n",
    "        },\n",
    "        {\n",
    "            \"Effect\": \"Allow\",\n",
    "            \"Action\": [\n",
    "                \"logs:DescribeLogStreams\",\n",
    "                \"logs:CreateLogStream\",\n",
    "                \"logs:PutLogEvents\"\n",
    "            ],\n",
    "            \"Resource\": [\n",
    "                \"arn:aws:logs:\"+region+\":\"+account_id+\":log-group:/aws/omics/WorkflowLog:log-stream:*\"\n",
    "            ]\n",
    "        },\n",
    "        {\n",
    "            \"Effect\": \"Allow\",\n",
    "            \"Action\": [\n",
    "                \"logs:CreateLogGroup\"\n",
    "            ],\n",
    "            \"Resource\": [\n",
    "                \"arn:aws:logs:\"+region+\":\"+account_id+\":log-group:/aws/omics/WorkflowLog:*\"\n",
    "            ]\n",
    "        },\n",
    "        {\n",
    "            \"Effect\": \"Allow\",\n",
    "            \"Action\": [\n",
    "                \"ecr:BatchGetImage\",\n",
    "                \"ecr:GetDownloadUrlForLayer\",\n",
    "                \"ecr:BatchCheckLayerAvailability\"\n",
    "            ],\n",
    "            \"Resource\": [\n",
    "                \"arn:aws:ecr:\"+region+\":\"+account_id+\":repository/*\"\n",
    "            ]\n",
    "        }\n",
    "    ]\n",
    "}\n",
    "\n",
    "omics_demo_trust_policy = {\n",
    "    \"Version\": \"2012-10-17\",\n",
    "    \"Statement\": [\n",
    "        {\n",
    "            \"Effect\": \"Allow\",\n",
    "            \"Principal\": {\n",
    "                \"Service\": \"omics.amazonaws.com\"\n",
    "            },\n",
    "            \"Action\": \"sts:AssumeRole\",\n",
    "            \"Condition\": {\n",
    "                \"StringEquals\": {\n",
    "                    \"aws:SourceAccount\": account_id\n",
    "                },\n",
    "                \"ArnLike\": {\n",
    "                    \"aws:SourceArn\": \"arn:aws:omics:\"+region+\":\"+account_id+\":run/*\"\n",
    "                }\n",
    "            }\n",
    "        }\n",
    "    ]\n",
    "}"
   ]
  },
  {
   "cell_type": "markdown",
   "id": "53f08c81-967f-4d51-bef6-1bcc1e0352b6",
   "metadata": {},
   "source": [
    "### Attach new policy to default role that was established when instance was created"
   ]
  },
  {
   "cell_type": "code",
   "execution_count": null,
   "id": "4a3f8f1b-dffe-4472-b7c7-4b903695541a",
   "metadata": {
    "tags": []
   },
   "outputs": [],
   "source": [
    "# We will use this as the base name for our role and policy\n",
    "omics_iam_name = 'SageMaker_HealthOmics_test_john'\n",
    "\n",
    "# Create the iam client\n",
    "iam = boto3.resource('iam')\n",
    "\n",
    "# Check if the role already exists; if not, create it\n",
    "\n",
    "role = iam.Role(omics_iam_name)\n",
    "try:\n",
    "    role.load()\n",
    "except iam.meta.client.exceptions.NoSuchEntityException:\n",
    "    create_role_response = iam.create_role(\n",
    "        RoleName = omics_iam_name,\n",
    "        AssumeRolePolicyDocument = json.dumps(omics_demo_trust_policy)\n",
    "    )\n",
    "    role.load()\n",
    "policy = iam.Policy('arn:aws:iam::'+account_id+':policy/{}-policy'.format(omics_iam_name))\n",
    "\n",
    "try:\n",
    "    policy.load()\n",
    "except iam.meta.client.exceptions.NoSuchEntityException:\n",
    "    #Create policy\n",
    "    policy = iam.create_policy(\n",
    "        PolicyName='{}-policy'.format(omics_iam_name),\n",
    "        Description=\"Policy for AWS HealthOmics demo\",\n",
    "        PolicyDocument=json.dumps(omics_demo_policy)\n",
    "    )\n",
    "    policy.load()\n",
    "\n",
    "#Attach the policy to the role\n",
    "policy.attach_role(RoleName=omics_iam_name)\n",
    "print(f'New policy for {omics_iam_name} successfully attached')"
   ]
  },
  {
   "cell_type": "markdown",
   "id": "9f10ebc4-e616-499e-8e86-41b1515e8bb2",
   "metadata": {},
   "source": [
    "<div class=\"alert alert-block alert-info\">\n",
    "<b>NOTE:</b> Replace [Role Name] name of attached role when you created the notebook instance.</div>"
   ]
  },
  {
   "cell_type": "markdown",
   "id": "7c773257-2824-4633-9fc4-7ad629a60204",
   "metadata": {},
   "source": [
    "## Step 3: Setup ECR for HealthOmics\n",
    "In this section we will go through the everything required to convert pre-existing nextflow script into HealthOmics workflow. Containers used by workflow will have to be fetched from ECR. If the AWS account already has ECR repository with necessary container image(s) then can skip this part."
   ]
  },
  {
   "cell_type": "markdown",
   "id": "53f1f48e-ae54-4fc3-bfae-9e251db6cf4f",
   "metadata": {},
   "source": [
    "#### Clone omx-ecr-helper Github repository"
   ]
  },
  {
   "cell_type": "code",
   "execution_count": null,
   "id": "59494216-6456-41d4-822f-00d8fd53ebeb",
   "metadata": {
    "tags": []
   },
   "outputs": [],
   "source": [
    "#Make sure you're within the Sagemaker directory and list \n",
    "!pwd\n",
    "!ls"
   ]
  },
  {
   "cell_type": "code",
   "execution_count": null,
   "id": "7cc269b4-63d6-4124-aa54-d74dcfd6cf4d",
   "metadata": {
    "tags": []
   },
   "outputs": [],
   "source": [
    "#clone the omx-ecr-helper github repository into current directory\n",
    "!git clone https://github.com/CBIIT/omx-ecr-helper"
   ]
  },
  {
   "cell_type": "code",
   "execution_count": null,
   "id": "a7a01f82-eea8-4380-9b28-3147dec5b649",
   "metadata": {
    "tags": []
   },
   "outputs": [],
   "source": [
    "#You should now see the 'omx-ecr-helper' folder within the directory when running ls command\n",
    "!ls"
   ]
  },
  {
   "cell_type": "markdown",
   "id": "0cbd95d6-a402-41f2-ac64-1b8ba4007159",
   "metadata": {},
   "source": [
    "#### Now open terminal and run following commands to install CDK\n",
    "##### Bootstrap CDK\n",
    "<p style=\"background:black\">\n",
    "<code style=\"background:black;color:white\">cdk bootstrap aws://[AWS-ACCOUNT-NUMBER]/[AWS-REGION]\n",
    "</code>\n",
    "</p>\n",
    "\n",
    "<div class=\"alert alert-block alert-info\">\n",
    "<b>NOTE:</b> Replace [AWS-ACCOUNT-NUMBER] and [AWS-REGION] with appropriate values.</div>\n",
    "\n",
    "##### Change your working dir to the repo: \n",
    "<p style=\"background:black\">\n",
    "<code style=\"background:black;color:white\">cd omx-ecr-helper\n",
    "</code>\n",
    "</p>\n",
    "\n",
    "##### Install all the dependencies: \n",
    "<p style=\"background:black\">\n",
    "<code style=\"background:black;color:white\">npm install\n",
    "</code>\n",
    "</p> \n",
    "\n",
    "##### Deploy the CF stacks for ECR in your account: \n",
    "<p style=\"background:black\">\n",
    "<code style=\"background:black;color:white\">cdk deploy --all --require-approval never \n",
    "</code>\n",
    "</p>"
   ]
  },
  {
   "cell_type": "markdown",
   "id": "99187745-cf94-4a7a-a969-13bf84645db9",
   "metadata": {},
   "source": [
    "### Clone and setup nf-core scrnaseq Github repository"
   ]
  },
  {
   "cell_type": "code",
   "execution_count": null,
   "id": "6beb44d2-5a94-48ab-8e70-148b9cdd59f5",
   "metadata": {
    "tags": []
   },
   "outputs": [],
   "source": [
    "#clone nf-core repository\n",
    "!git clone https://github.com/nf-core/scrnaseq.git --branch 2.3.0 --single-branch"
   ]
  },
  {
   "cell_type": "code",
   "execution_count": null,
   "id": "b1a7edfd-067f-455f-989c-7f09528fd539",
   "metadata": {
    "tags": []
   },
   "outputs": [],
   "source": [
    "#copy latest version of docker manifest file from helper repo\n",
    "!cp ./omx-ecr-helper/lib/lambda/parse-image-uri/public_registry_properties.json namespace.config"
   ]
  },
  {
   "cell_type": "code",
   "execution_count": null,
   "id": "97f5ae65-d513-4869-94a7-f969dfb04a85",
   "metadata": {
    "tags": []
   },
   "outputs": [],
   "source": [
    "#clone amazon-omics-tutorials repo to get inspect_nf.py script\n",
    "!git clone https://github.com/aws-samples/amazon-omics-tutorials.git"
   ]
  },
  {
   "cell_type": "markdown",
   "id": "ff0ef773-98af-4e7b-a1d5-1293d22185a7",
   "metadata": {
    "tags": []
   },
   "source": [
    "### Generate manifest.json and omics.config files"
   ]
  },
  {
   "cell_type": "code",
   "execution_count": null,
   "id": "23f5cfe1-8e67-41ad-b7ff-b6201b9811c9",
   "metadata": {
    "tags": []
   },
   "outputs": [],
   "source": [
    "#run inspect_nf.py to create manifest.json and omics.config files\n",
    "!python3 amazon-omics-tutorials/utils/scripts/inspect_nf.py \\\n",
    "--output-manifest-file scrnaseq/scrnaseq_230_docker_image_manifest.json \\\n",
    "-n scrnaseq/namespace.config \\\n",
    "--output-config-file scrnaseq/conf/omics.config \\\n",
    "--region $region \\\n",
    "scrnaseq/"
   ]
  },
  {
   "cell_type": "markdown",
   "id": "80abb1a8-49f2-4e14-8646-1e86f1e2b112",
   "metadata": {},
   "source": [
    "##### Execute the StepFunctions\n",
    "After running the code below, the container images listed in your 'manifest.json' file should now be present within your account's ECR."
   ]
  },
  {
   "cell_type": "code",
   "execution_count": null,
   "id": "8a74174a-9b09-499a-ae22-8cbe4e8d1b10",
   "metadata": {
    "tags": []
   },
   "outputs": [],
   "source": [
    "#us-east-1:664418964547\n",
    "!aws stepfunctions start-execution\\\n",
    "    --state-machine-arn arn:aws:states:[AWS REGION]:[AWS-ACCOUNT-NUMBER]:stateMachine:omx-container-puller\\\n",
    "    --input file://container_pull_manifest.json"
   ]
  },
  {
   "cell_type": "code",
   "execution_count": null,
   "id": "91cbe92c-b2b0-46ac-9e79-85999ad4d343",
   "metadata": {
    "tags": []
   },
   "outputs": [],
   "source": [
    "#us-east-1:664418964547\n",
    "!aws stepfunctions start-execution\\\n",
    "    --state-machine-arn arn:aws:states:$region:$account_id:stateMachine:omx-container-puller\\\n",
    "    --input file://scrnaseq/scrnaseq_230_docker_image_manifest.json"
   ]
  },
  {
   "cell_type": "markdown",
   "id": "bbbc789c-01b8-4b27-93f3-e3cef2fa8be4",
   "metadata": {},
   "source": [
    "<div class=\"alert alert-block alert-info\">\n",
    "<b>NOTE:</b> Replace [AWS-ACCOUNT-NUMBER] and [AWS-REGION] with appropriate values.</div>"
   ]
  },
  {
   "cell_type": "code",
   "execution_count": null,
   "id": "b41e5412-1e3e-41b7-8a02-f1dd659e564f",
   "metadata": {
    "tags": []
   },
   "outputs": [],
   "source": [
    "#print new container repos, may print a lot of text\n",
    "!aws ecr describe-repositories"
   ]
  },
  {
   "cell_type": "code",
   "execution_count": null,
   "id": "cb3d2241-49a8-4a95-9c5a-397bd0f86f8d",
   "metadata": {
    "tags": []
   },
   "outputs": [],
   "source": [
    "#move omcis.config file to project conf directory\n",
    "! mv omics.config scrnaseq/conf"
   ]
  },
  {
   "cell_type": "code",
   "execution_count": null,
   "id": "3618080e-ed89-4775-abf4-7ed21f114251",
   "metadata": {
    "tags": []
   },
   "outputs": [],
   "source": [
    "#update nextflow.config file to include newly created omics.config\n",
    "!echo \"includeConfig 'conf/omics.config'\" >> scrnaseq/nextflow.config"
   ]
  },
  {
   "cell_type": "markdown",
   "id": "81573c76-8ddc-4e1e-8ee1-310e043a1579",
   "metadata": {},
   "source": [
    "### Now you should be ready to setup your data stores, create workflows, connect the workflows to your account's ECR, and start running your workflows!"
   ]
  }
 ],
 "metadata": {
  "kernelspec": {
   "display_name": "conda_python3",
   "language": "python",
   "name": "conda_python3"
  },
  "language_info": {
   "codemirror_mode": {
    "name": "ipython",
    "version": 3
   },
   "file_extension": ".py",
   "mimetype": "text/x-python",
   "name": "python",
   "nbconvert_exporter": "python",
   "pygments_lexer": "ipython3",
   "version": "3.10.14"
  }
 },
 "nbformat": 4,
 "nbformat_minor": 5
}
